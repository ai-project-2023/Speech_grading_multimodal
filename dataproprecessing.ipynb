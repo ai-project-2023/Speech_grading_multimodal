{
  "cells": [
    {
      "cell_type": "code",
      "execution_count": 1,
      "metadata": {
        "colab": {
          "base_uri": "https://localhost:8080/"
        },
        "id": "_riatW2Ql_iV",
        "outputId": "b33389ca-22d5-40d2-efd2-4f3e0d493a95"
      },
      "outputs": [
        {
          "name": "stdout",
          "output_type": "stream",
          "text": [
            "Looking in indexes: https://pypi.org/simple, https://us-python.pkg.dev/colab-wheels/public/simple/\n",
            "Collecting speechrecognition\n",
            "  Downloading SpeechRecognition-3.10.0-py2.py3-none-any.whl (32.8 MB)\n",
            "\u001b[2K     \u001b[90m━━━━━━━━━━━━━━━━━━━━━━━━━━━━━━━━━━━━━━━━\u001b[0m \u001b[32m32.8/32.8 MB\u001b[0m \u001b[31m16.8 MB/s\u001b[0m eta \u001b[36m0:00:00\u001b[0m\n",
            "\u001b[?25hRequirement already satisfied: requests>=2.26.0 in /usr/local/lib/python3.10/dist-packages (from speechrecognition) (2.27.1)\n",
            "Requirement already satisfied: urllib3<1.27,>=1.21.1 in /usr/local/lib/python3.10/dist-packages (from requests>=2.26.0->speechrecognition) (1.26.15)\n",
            "Requirement already satisfied: certifi>=2017.4.17 in /usr/local/lib/python3.10/dist-packages (from requests>=2.26.0->speechrecognition) (2022.12.7)\n",
            "Requirement already satisfied: charset-normalizer~=2.0.0 in /usr/local/lib/python3.10/dist-packages (from requests>=2.26.0->speechrecognition) (2.0.12)\n",
            "Requirement already satisfied: idna<4,>=2.5 in /usr/local/lib/python3.10/dist-packages (from requests>=2.26.0->speechrecognition) (3.4)\n",
            "Installing collected packages: speechrecognition\n",
            "Successfully installed speechrecognition-3.10.0\n"
          ]
        }
      ],
      "source": [
        "!python -m pip install speechrecognition \n",
        "\n"
      ]
    },
    {
      "cell_type": "code",
      "execution_count": 2,
      "metadata": {
        "colab": {
          "base_uri": "https://localhost:8080/"
        },
        "id": "RAXVfMSymERQ",
        "outputId": "be5e908f-ac2c-4127-ae2f-ab598186e2bd"
      },
      "outputs": [
        {
          "name": "stdout",
          "output_type": "stream",
          "text": [
            "Looking in indexes: https://pypi.org/simple, https://us-python.pkg.dev/colab-wheels/public/simple/\n",
            "Collecting pydub\n",
            "  Downloading pydub-0.25.1-py2.py3-none-any.whl (32 kB)\n",
            "Installing collected packages: pydub\n",
            "Successfully installed pydub-0.25.1\n"
          ]
        }
      ],
      "source": [
        "!python -m pip install pydub"
      ]
    },
    {
      "cell_type": "code",
      "execution_count": 3,
      "metadata": {
        "colab": {
          "base_uri": "https://localhost:8080/"
        },
        "id": "QqcC0Dd2mE_U",
        "outputId": "8a4d9ed9-a05c-4f51-f1de-cfa5778952fa"
      },
      "outputs": [
        {
          "name": "stdout",
          "output_type": "stream",
          "text": [
            "Looking in indexes: https://pypi.org/simple, https://us-python.pkg.dev/colab-wheels/public/simple/\n",
            "Requirement already satisfied: speechrecognition in /usr/local/lib/python3.10/dist-packages (3.10.0)\n",
            "Requirement already satisfied: requests>=2.26.0 in /usr/local/lib/python3.10/dist-packages (from speechrecognition) (2.27.1)\n",
            "Requirement already satisfied: urllib3<1.27,>=1.21.1 in /usr/local/lib/python3.10/dist-packages (from requests>=2.26.0->speechrecognition) (1.26.15)\n",
            "Requirement already satisfied: certifi>=2017.4.17 in /usr/local/lib/python3.10/dist-packages (from requests>=2.26.0->speechrecognition) (2022.12.7)\n",
            "Requirement already satisfied: charset-normalizer~=2.0.0 in /usr/local/lib/python3.10/dist-packages (from requests>=2.26.0->speechrecognition) (2.0.12)\n",
            "Requirement already satisfied: idna<4,>=2.5 in /usr/local/lib/python3.10/dist-packages (from requests>=2.26.0->speechrecognition) (3.4)\n"
          ]
        }
      ],
      "source": [
        "!python -m pip install --upgrade speechrecognition"
      ]
    },
    {
      "cell_type": "code",
      "execution_count": 4,
      "metadata": {
        "colab": {
          "base_uri": "https://localhost:8080/"
        },
        "id": "0J583vibmGSS",
        "outputId": "bc96ec02-2b68-4765-ea98-e23df9089023"
      },
      "outputs": [
        {
          "name": "stdout",
          "output_type": "stream",
          "text": [
            "Mounted at /content/drive\n"
          ]
        }
      ],
      "source": [
        "from google.colab import drive\n",
        "drive.mount('/content/drive')"
      ]
    },
    {
      "cell_type": "code",
      "execution_count": 1,
      "metadata": {
        "colab": {
          "base_uri": "https://localhost:8080/"
        },
        "id": "RdWRrAlomH2Z",
        "outputId": "257d5023-85a7-4b07-8e17-cdfed8836e4e"
      },
      "outputs": [
        {
          "name": "stdout",
          "output_type": "stream",
          "text": [
            "running error\n"
          ]
        }
      ],
      "source": [
        "import os\n",
        "# from pydub import AudioSegment\n",
        "# import speech_recognition as sr\n",
        "# # API = \"YOUR_API_KEY\"\n",
        "\n",
        "# class Datapreprocessing:\n",
        "#     def __init__(self, data_path):\n",
        "#         self.data_path = data_path\n",
        "#         self.mp4_file_path = os.path.join(self.data_path, \"mp4_file\")\n",
        "#         self.wav_file_path = os.path.join(self.data_path, \"wav_file\")\n",
        "#         self.text_results_path = os.path.join(self.data_path, \"text_results\")\n",
        "\n",
        "#     def mp4_to_wav(self, wav_name, mp4_file):\n",
        "#         mp4_file_path = os.path.join(self.mp4_file_path, mp4_file)\n",
        "#         wav_file_path = os.path.join(self.wav_file_path, wav_name)\n",
        "#         audio = AudioSegment.from_file(mp4_file_path, format='mp4')\n",
        "#         audio.export(wav_file_path, format='wav')\n",
        "\n",
        "#     def batch_mp4_to_wav(self):\n",
        "#         mp4_files = [f for f in os.listdir(self.mp4_file_path) if f.endswith('.mp4')]\n",
        "#         for mp4_file in mp4_files:\n",
        "#             wav_name = os.path.splitext(mp4_file)[0] + \".wav\"\n",
        "#             self.mp4_to_wav(wav_name, mp4_file)\n",
        "\n",
        "#     def speech_to_text(self):\n",
        "#         r = sr.Recognizer()\n",
        "#         wav_files = [f for f in os.listdir(self.wav_file_path) if f.endswith('.wav')]\n",
        "#         for wav_file in wav_files:\n",
        "#             wav_file_path = os.path.join(self.wav_file_path, wav_file)\n",
        "#             with sr.AudioFile(wav_file_path) as source:\n",
        "#                 audio = r.record(source)\n",
        "#             try: \n",
        "#               text = r.recognize_google(audio)\n",
        "#               result_file_path = os.path.join(self.text_results_path, os.path.splitext(wav_file)[0] + \".txt\")\n",
        "#               with open(result_file_path, \"w\") as file:\n",
        "#                   file.write(text)\n",
        "#             except:\n",
        "#               print(\"running error\")\n",
        "\n",
        "\n",
        "from dataproprecessing import Datapreprocessing\n",
        "data_path = os.path.abspath(\"./drive/MyDrive/datapreprocessing/dataset\")\n",
        "preprocessing = Datapreprocessing(data_path)\n",
        "preprocessing.batch_mp4_to_wav()\n",
        "preprocessing.speech_to_text()\n"
      ]
    }
  ],
  "metadata": {
    "colab": {
      "provenance": []
    },
    "kernelspec": {
      "display_name": "Python 3",
      "name": "python3"
    },
    "language_info": {
      "name": "python"
    }
  },
  "nbformat": 4,
  "nbformat_minor": 0
}
