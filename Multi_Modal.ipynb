{
  "cells": [
    {
      "cell_type": "code",
      "execution_count": 37,
      "metadata": {
        "id": "CE40yJVUlzKo"
      },
      "outputs": [],
      "source": [
        "## 수정\n",
        "\n",
        "import numpy as np\n",
        "import torch\n",
        "import torch.nn as nn\n",
        "import os\n",
        "\n",
        "class Multimodal():\n",
        "    def __init__(self):\n",
        "        self.lengths = None\n",
        "        self.weights = None\n",
        "        self.feature_vector_1 = None\n",
        "        self.feature_vector_2 = None\n",
        "        self.feature_vector_3 = None\n",
        "        self._concatenated_vector = None\n",
        "        self.tensor_result = None\n",
        "\n",
        "    def upload_vector(self, jitterLocal, Gaze_Vector, Cosine_Similarity, NSP, BERT_Topic):\n",
        "        self.feature_vector_1 = np.load(jitterLocal)\n",
        "        self.feature_vector_2 = np.squeeze(np.load(Gaze_Vector))\n",
        "        self.feature_vector_3 = np.load(Cosine_Similarity)\n",
        "        self.feature_vector_4 = np.load(NSP)\n",
        "        self.feature_vector_5 = np.load(BERT_Topic)\n",
        "\n",
        "        # self.lengths = [len(self.feature_vector_1), len(self.feature_vector_2), len(self.feature_vector_3),len(self.feature_vector_4),len(self.feature_vector_5)]\n",
        "        self.lengths = [(self.feature_vector_1).size, (self.feature_vector_2).size, (self.feature_vector_3).size,(self.feature_vector_4).size,(self.feature_vector_5).size]\n",
        "\n",
        "    def minmax_scaling(self):\n",
        "\n",
        "        ## 가궁치 구하기\n",
        "        sum_lengths = sum(self.lengths)\n",
        "        weights = [length / sum_lengths for length in self.lengths]\n",
        "        ## weight minmax 처리\n",
        "        # min weight, max weight 구하기\n",
        "        min_weight = min(weights)\n",
        "        max_weight = max(weights)\n",
        "        scaled_weight = [(weight - min_weight) / (max_weight - min_weight) for weight in weights]\n",
        "        self.weights = scaled_weight\n",
        "        return self.weights\n",
        "\n",
        "    def concatenated_vector(self):\n",
        "        self._concatenated_vector = np.concatenate([\n",
        "            self.feature_vector_1 / self.weights[0],\n",
        "            self.feature_vector_2 / self.weights[1],\n",
        "            self.feature_vector_3 / self.weights[2],\n",
        "            self.feature_vector_4 / self.weights[3],\n",
        "            self.feature_vector_5 / self.weights[4]\n",
        "        ], axis = 0)\n",
        "        return self._concatenated_vector\n",
        "    def put_torch(self, jitterLocal, Gaze_Vector, Cosine_Similarity, NSP, BERT_Topic):\n",
        "      self.upload_vector(jitterLocal, Gaze_Vector, Cosine_Similarity, NSP, BERT_Topic)\n",
        "      self.minmax_scaling()\n",
        "      self.concatenated_vector()\n",
        "      ## result를 tensor에 순서대로 담기\n",
        "      tensor_result = []\n",
        "      for data in self._concatenated_vector:\n",
        "          tensor = torch.tensor(data)\n",
        "          tensor_result.append(tensor)\n",
        "      self.tensor_result = tensor_result\n",
        "      # self.tensor_result = torch.stack(tensor_result)\n",
        "      return self.tensor_result\n",
        "\n",
        "\n",
        "\n",
        "\n",
        "    def early_stopping(self, loss_history, patience=10, lowerbound_loss = 1e-4):\n",
        "        for i in range(1, patience):\n",
        "            try: \n",
        "              if loss_history[-i] < loss_history[-(i+1)] and loss_history[-i] >= lowerbound_loss:\n",
        "                  patience = 10\n",
        "                  return False ## 훈련 계속 진행\n",
        "                  # 현재 에포크의 손실 값이 이전 에포크의 손실 값보다 작거나 같으면서,\n",
        "                  # 또는 현재 에포크의 손실 값이 1e-4보다 크면 훈련을 계속 진행 (조기 종료하지 않음)\n",
        "            except: ## 남은게 10개 안남았을 때,\n",
        "              pass\n",
        "        return True # 조기 종료로 판단하여 훈련을 종료\n",
        "\n",
        "\n",
        "    def run_lstm(self, num_epochs=10, y_value = 1):\n",
        "      # LSTM model definition\n",
        "      class StackedLSTM(nn.Module):\n",
        "          def __init__(self, input_size, hidden_size, num_layers, output_size):\n",
        "              super(StackedLSTM, self).__init__()\n",
        "              self.lstm = nn.LSTM(input_size, hidden_size, num_layers=2, batch_first=True)\n",
        "              self.linear = nn.Linear(hidden_size, output_size)\n",
        "              self.dense = nn.Linear(in_features=output_size, out_features=1)\n",
        "\n",
        "          def forward(self, x):\n",
        "              output, _ = self.lstm(x)\n",
        "              output = self.linear(output[:, -1, :])\n",
        "              output = self.dense(output)\n",
        "              return output\n",
        "\n",
        "      input_size = 1  # 입력 텐서의 feature 차원 크기\n",
        "      hidden_size = 125\n",
        "      output_size = 25\n",
        "      num_layers = 2\n",
        "\n",
        "      # LSTM model training\n",
        "      model = StackedLSTM(input_size, hidden_size, num_layers, output_size)\n",
        "      criterion = nn.BCEWithLogitsLoss()\n",
        "      optimizer = torch.optim.Adam(model.parameters())\n",
        "\n",
        "      loss_history = []\n",
        "      patience = 10\n",
        "      lowerbound_loss = 1e-4\n",
        "\n",
        "      for epoch in range(num_epochs):\n",
        "          optimizer.zero_grad()\n",
        "          epoch_loss = 0.0\n",
        "\n",
        "          for data in tensor_result:\n",
        "            #X = data.unsqueeze(0).unsqueeze(0).float()\n",
        "            X = data.view(1, -1, 1).float()  \n",
        "            y = torch.tensor([y_value]).view(-1, 1).float()\n",
        "            #y = torch.tensor([0, 1]).long() \n",
        "\n",
        "            output = model(X)\n",
        "            loss = criterion(output, y)\n",
        "            loss.backward()\n",
        "            optimizer.step()\n",
        "\n",
        "            epoch_loss += loss.item()\n",
        "            print(epoch_loss)\n",
        "\n",
        "          loss_history.append(epoch_loss)\n",
        "\n",
        "          if self.early_stopping(loss_history, patience, lowerbound_loss):\n",
        "              print(\"Early stopping triggered!\")\n",
        "              break\n",
        "\n",
        "      return loss_history\n",
        "\n",
        "\n",
        "\n"
      ]
    },
    {
      "attachments": {},
      "cell_type": "markdown",
      "metadata": {
        "id": "bsxy6mCP3nIX"
      },
      "source": [
        "# Data Paths"
      ]
    },
    {
      "cell_type": "code",
      "execution_count": 1,
      "metadata": {
        "id": "dVE3foQCuVny"
      },
      "outputs": [],
      "source": [
        "import os"
      ]
    },
    {
      "cell_type": "code",
      "execution_count": 2,
      "metadata": {
        "colab": {
          "base_uri": "https://localhost:8080/"
        },
        "id": "3mRnv9pnMmaE",
        "outputId": "73ade070-430d-4683-cd88-1eafffa7f449"
      },
      "outputs": [
        {
          "name": "stdout",
          "output_type": "stream",
          "text": [
            "Mounted at /content/drive/\n"
          ]
        }
      ],
      "source": [
        "from google.colab import drive\n",
        "drive.mount('/content/drive/')"
      ]
    },
    {
      "cell_type": "code",
      "execution_count": 3,
      "metadata": {
        "id": "cjfE5H92tQON"
      },
      "outputs": [],
      "source": [
        "common_drive_path = \"/content/drive/MyDrive/AI_Project_14\"\n",
        "\n",
        "good_jitter_path = common_drive_path + '/MP4_GOOD/jitterLocalnp/'\n",
        "bad_jitter_path = common_drive_path + '/jitterLocal_for_bad_audio(Raw)np/'\n",
        "good_gaze_path = common_drive_path + '/GAZE/good_gaze/scaled/'\n",
        "bad_gaze_path = common_drive_path + '/GAZE/bad_gaze/scaled/bad_data/'\n",
        "good_cos_path = common_drive_path + '/speechtotext/COS/TEST_GOOD/'\n",
        "bad_cos_path = common_drive_path + '/speechtotext/COS/BAD/'\n",
        "good_nsp_path = common_drive_path + \"/NSP/GOOD/\"\n",
        "bad_nsp_path = common_drive_path + \"/NSP/BAD/\"\n",
        "good_topic_path = path = common_drive_path + '/TOPIC2/TOPIC2_GOOD/'\n",
        "bad_topic_path = path = common_drive_path + '/TOPIC2/TOPIC2_BAD/'\n"
      ]
    },
    {
      "attachments": {},
      "cell_type": "markdown",
      "metadata": {
        "id": "DTqJqAtY4KEk"
      },
      "source": [
        "# Make File Name Lists"
      ]
    },
    {
      "cell_type": "code",
      "execution_count": 4,
      "metadata": {
        "id": "636a19Yx4ORt"
      },
      "outputs": [],
      "source": [
        "good_jitter_names = os.listdir(good_jitter_path)\n",
        "good_gaze_names = os.listdir(good_gaze_path)\n",
        "good_cos_names = os.listdir(good_cos_path)\n",
        "good_nsp_names = os.listdir(good_nsp_path)\n",
        "good_topic_names = os.listdir(good_topic_path)\n",
        "bad_jitter_names = os.listdir(bad_jitter_path)\n",
        "bad_gaze_names = os.listdir(bad_gaze_path)\n",
        "bad_cos_names = os.listdir(bad_cos_path)\n",
        "bad_nsp_names = os.listdir(bad_nsp_path)\n",
        "bad_topic_names = os.listdir(bad_topic_path)\n",
        "\n",
        "good_jitter_names = sorted(good_jitter_names)\n",
        "good_gaze_names = sorted(good_gaze_names)\n",
        "good_cos_names = sorted(good_cos_names)\n",
        "good_nsp_names = sorted(good_nsp_names)\n",
        "good_topic_names = sorted(good_topic_names)\n",
        "bad_jitter_names = sorted(bad_jitter_names)\n",
        "bad_gaze_names = sorted(bad_gaze_names)\n",
        "bad_cos_names = sorted(bad_cos_names)\n",
        "bad_nsp_names = sorted(bad_nsp_names)\n",
        "bad_topic_names = sorted(bad_topic_names)"
      ]
    },
    {
      "cell_type": "code",
      "execution_count": 5,
      "metadata": {
        "colab": {
          "base_uri": "https://localhost:8080/"
        },
        "id": "uLQWugBbNMiq",
        "outputId": "34d50a1a-cb59-461b-c880-c1a39be4baec"
      },
      "outputs": [
        {
          "name": "stdout",
          "output_type": "stream",
          "text": [
            "89\n",
            "89\n",
            "89\n",
            "89\n",
            "89\n",
            "92\n",
            "92\n",
            "92\n",
            "92\n",
            "92\n"
          ]
        }
      ],
      "source": [
        "print(len(good_jitter_names))\n",
        "print(len(good_gaze_names))\n",
        "print(len(good_cos_names))\n",
        "print(len(good_nsp_names))\n",
        "print(len(good_topic_names))\n",
        "print(len(bad_jitter_names))\n",
        "print(len(bad_gaze_names))\n",
        "print(len(bad_cos_names))\n",
        "print(len(bad_nsp_names))\n",
        "print(len(bad_topic_names))"
      ]
    },
    {
      "attachments": {},
      "cell_type": "markdown",
      "metadata": {
        "id": "27B1TTB9oGDH"
      },
      "source": [
        "# Make Each Features to doubled list"
      ]
    },
    {
      "cell_type": "code",
      "execution_count": 3,
      "metadata": {
        "id": "34E4-q9nuXZy"
      },
      "outputs": [],
      "source": [
        "import numpy as np"
      ]
    },
    {
      "cell_type": "code",
      "execution_count": 7,
      "metadata": {
        "id": "HHXJCMVioFAl"
      },
      "outputs": [],
      "source": [
        "def load_features(path, file_names):\n",
        "  vectors = []\n",
        "  for i, file_name in enumerate(file_names):\n",
        "    vector = np.load(path + file_name)\n",
        "    vectors.append(vector)\n",
        "  return vectors"
      ]
    },
    {
      "cell_type": "code",
      "execution_count": 8,
      "metadata": {
        "id": "N8q71I9ro1F_"
      },
      "outputs": [],
      "source": [
        "good_jitter_vectors = load_features(good_jitter_path, good_jitter_names)\n",
        "good_gaze_vectors = load_features(good_gaze_path, good_gaze_names)\n",
        "good_cos_vectors = load_features(good_cos_path, good_cos_names)\n",
        "good_nsp_vectors = load_features(good_nsp_path, good_nsp_names)\n",
        "good_topic_vectors = load_features(good_topic_path, good_topic_names)\n",
        "\n",
        "bad_jitter_vectors = load_features(bad_jitter_path, bad_jitter_names)\n",
        "bad_gaze_vectors = load_features(bad_gaze_path, bad_gaze_names)\n",
        "bad_cos_vectors = load_features(bad_cos_path, bad_cos_names)\n",
        "bad_nsp_vectors = load_features(bad_nsp_path, bad_nsp_names)\n",
        "bad_topic_vectors = load_features(bad_topic_path, bad_topic_names)"
      ]
    },
    {
      "attachments": {},
      "cell_type": "markdown",
      "metadata": {
        "id": "eEGbeywkmh4G"
      },
      "source": [
        "# Concatenate features with weights of length"
      ]
    },
    {
      "cell_type": "code",
      "execution_count": 9,
      "metadata": {
        "id": "5Qs13UMVmmNF"
      },
      "outputs": [],
      "source": [
        "def max_scaled_weight(jitter, gaze, cos, nsp, topic):\n",
        "    ## 가중치 구하기\n",
        "    vectors = [jitter, gaze, cos, nsp, topic]\n",
        "    sum_lengths = 0\n",
        "    for vector in vectors:\n",
        "      sum_lengths += vector.shape[0]\n",
        "    \n",
        "    weights = [sum_lengths / vector.shape[0] for vector in vectors]\n",
        "    ## weight minmax 처리\n",
        "    # min weight, max weight 구하기\n",
        "    min_weight = min(weights)\n",
        "    max_weight = max(weights)\n",
        "    \n",
        "    scaled_weight = [weight / max_weight for weight in weights]\n",
        "    weights = scaled_weight\n",
        "    return weights"
      ]
    },
    {
      "cell_type": "code",
      "execution_count": 10,
      "metadata": {
        "id": "EMVOi-jvmpjz"
      },
      "outputs": [],
      "source": [
        "def concatenate_vector(jitter, gaze, cos, nsp, topic, weight):\n",
        "    _concatenated_vector = np.concatenate([\n",
        "        jitter * weight[0],\n",
        "        gaze * weight[1],\n",
        "        cos * weight[2],\n",
        "        nsp * weight[3],\n",
        "        topic * weight[4]\n",
        "    ], axis = 0)\n",
        "    return _concatenated_vector"
      ]
    },
    {
      "cell_type": "code",
      "execution_count": 11,
      "metadata": {
        "id": "C5vfd5FSntOa"
      },
      "outputs": [],
      "source": [
        "for i, vector in enumerate(good_gaze_vectors):\n",
        "  vector = vector.reshape(-1, )\n",
        "  good_gaze_vectors[i] = vector"
      ]
    },
    {
      "cell_type": "code",
      "execution_count": 12,
      "metadata": {
        "colab": {
          "base_uri": "https://localhost:8080/"
        },
        "id": "dmlfsQoboDvu",
        "outputId": "4ecf2daf-a4d2-4788-972a-ce935b0a0299"
      },
      "outputs": [
        {
          "data": {
            "text/plain": [
              "(1270,)"
            ]
          },
          "execution_count": 12,
          "metadata": {},
          "output_type": "execute_result"
        }
      ],
      "source": [
        "good_gaze_vectors[0].shape"
      ]
    },
    {
      "cell_type": "code",
      "execution_count": 13,
      "metadata": {
        "id": "UuHZx6VuoSlW"
      },
      "outputs": [],
      "source": [
        "for i, vector in enumerate(bad_gaze_vectors):\n",
        "  vector = vector.reshape(-1, )\n",
        "  bad_gaze_vectors[i] = vector"
      ]
    },
    {
      "cell_type": "code",
      "execution_count": 1,
      "metadata": {
        "id": "wlxgCZiQsELf"
      },
      "outputs": [],
      "source": [
        "# append each concated vector to X\n",
        "X = []"
      ]
    },
    {
      "cell_type": "code",
      "execution_count": 15,
      "metadata": {
        "id": "jGlvUzE4rx_D"
      },
      "outputs": [],
      "source": [
        "for good_jitter, good_gaze, good_cos, good_nsp, good_topic in zip(good_jitter_vectors, good_gaze_vectors, good_cos_vectors, good_nsp_vectors, good_topic_vectors):\n",
        "  weigths = max_scaled_weight(good_jitter, good_gaze, good_cos, good_nsp, good_topic)\n",
        "  concated_vector = concatenate_vector(good_jitter, good_gaze, good_cos, good_nsp, good_topic, weigths)\n",
        "  concated_vector = concated_vector.tolist()\n",
        "  X.append(concated_vector)"
      ]
    },
    {
      "cell_type": "code",
      "execution_count": 16,
      "metadata": {
        "id": "BjR84-8CsOfL"
      },
      "outputs": [],
      "source": [
        "for bad_jitter, bad_gaze, bad_cos, bad_nsp, bad_topic in zip(bad_jitter_vectors, bad_gaze_vectors, bad_cos_vectors, bad_nsp_vectors, bad_topic_vectors):\n",
        "  weigths = max_scaled_weight(bad_jitter, bad_gaze, bad_cos, bad_nsp, bad_topic)\n",
        "  concated_vector = concatenate_vector(bad_jitter, bad_gaze, bad_cos, bad_nsp, bad_topic, weigths)\n",
        "  concated_vector = concated_vector.tolist()\n",
        "  X.append(concated_vector)"
      ]
    },
    {
      "cell_type": "code",
      "execution_count": 17,
      "metadata": {
        "colab": {
          "base_uri": "https://localhost:8080/"
        },
        "id": "GZ__4ZG1sUt5",
        "outputId": "27c4062a-06e5-4218-e15b-691162424b7c"
      },
      "outputs": [
        {
          "data": {
            "text/plain": [
              "181"
            ]
          },
          "execution_count": 17,
          "metadata": {},
          "output_type": "execute_result"
        }
      ],
      "source": [
        "len(X)"
      ]
    },
    {
      "cell_type": "code",
      "execution_count": 1,
      "metadata": {
        "id": "YGBUuKrpsYwE"
      },
      "outputs": [],
      "source": [
        "# Make target vector Y\n",
        "Y = [1] * 89\n",
        "for i in range(0, 92, 1):\n",
        "  Y.append(0)"
      ]
    },
    {
      "cell_type": "code",
      "execution_count": 2,
      "metadata": {
        "colab": {
          "base_uri": "https://localhost:8080/"
        },
        "id": "qYsLF3Dp_qT1",
        "outputId": "18a500cb-a982-4868-e920-2e63499d4484"
      },
      "outputs": [
        {
          "name": "stdout",
          "output_type": "stream",
          "text": [
            "1111111111111111111111111111111111111111111111111111111111111111111111111111111111111111100000000000000000000000000000000000000000000000000000000000000000000000000000000000000000000"
          ]
        }
      ],
      "source": [
        "for i in range(0, 181, 1):\n",
        "  print(Y[i], end = \"\")"
      ]
    },
    {
      "cell_type": "code",
      "execution_count": 3,
      "metadata": {
        "colab": {
          "base_uri": "https://localhost:8080/"
        },
        "id": "4dFiPDy-suO5",
        "outputId": "288243a2-bfbe-4096-bac4-16f591e02fee"
      },
      "outputs": [
        {
          "name": "stdout",
          "output_type": "stream",
          "text": [
            "181\n",
            "0 1\n"
          ]
        }
      ],
      "source": [
        "print(len(Y))\n",
        "print(min(Y), max(Y))"
      ]
    },
    {
      "cell_type": "code",
      "execution_count": 4,
      "metadata": {},
      "outputs": [],
      "source": [
        "import numpy as np\n",
        "X = np.load('../data/final/Concated_X.npy', allow_pickle=True)\n"
      ]
    },
    {
      "attachments": {},
      "cell_type": "markdown",
      "metadata": {
        "id": "xAkBut74s1V7"
      },
      "source": [
        "# Split and shuffle data"
      ]
    },
    {
      "cell_type": "code",
      "execution_count": 5,
      "metadata": {
        "id": "K_qDwwIOs06Q"
      },
      "outputs": [],
      "source": [
        "from sklearn.model_selection import train_test_split"
      ]
    },
    {
      "cell_type": "code",
      "execution_count": 6,
      "metadata": {
        "id": "57SUz0jptITx"
      },
      "outputs": [],
      "source": [
        "train_X, val_X, train_Y, val_Y = train_test_split(X, Y, test_size = 0.1, shuffle = True, random_state = 2301)"
      ]
    },
    {
      "cell_type": "code",
      "execution_count": 7,
      "metadata": {
        "colab": {
          "base_uri": "https://localhost:8080/"
        },
        "id": "IO6P6fQJteZT",
        "outputId": "d436c2c4-b183-4d92-db74-f1beba76ecde"
      },
      "outputs": [
        {
          "name": "stdout",
          "output_type": "stream",
          "text": [
            "Number of Target 1 in train set:  81\n",
            "Number of Target 0 in train set:  81\n"
          ]
        }
      ],
      "source": [
        "print(\"Number of Target 1 in train set: \", sum(train_Y))\n",
        "print(\"Number of Target 0 in train set: \", len(train_Y) - sum(train_Y))"
      ]
    },
    {
      "cell_type": "code",
      "execution_count": 8,
      "metadata": {
        "colab": {
          "base_uri": "https://localhost:8080/"
        },
        "id": "oOy1x5svt3aL",
        "outputId": "65c03d92-7643-409e-bdef-3282f2aab67f"
      },
      "outputs": [
        {
          "name": "stdout",
          "output_type": "stream",
          "text": [
            "<class 'numpy.ndarray'>\n",
            "<class 'numpy.ndarray'>\n",
            "<class 'list'>\n",
            "<class 'list'>\n"
          ]
        }
      ],
      "source": [
        "print(type(train_X))\n",
        "print(type(val_X))\n",
        "print(type(train_Y))\n",
        "print(type(val_Y))"
      ]
    },
    {
      "attachments": {},
      "cell_type": "markdown",
      "metadata": {
        "id": "E6j98x4qvRkb"
      },
      "source": [
        "# Convert to tensor"
      ]
    },
    {
      "cell_type": "code",
      "execution_count": 9,
      "metadata": {
        "id": "dasSFjIG1dKK"
      },
      "outputs": [],
      "source": [
        "import torch\n",
        "import torch.nn as nn"
      ]
    },
    {
      "cell_type": "code",
      "execution_count": 10,
      "metadata": {
        "id": "84-sJsEyA4Hy"
      },
      "outputs": [],
      "source": [
        "def convert_list_to_numpy(lists):\n",
        "  numpy_list = []\n",
        "  for vector in lists:\n",
        "    a = np.array(vector)\n",
        "    numpy_list.append(a)\n",
        "  return numpy_list"
      ]
    },
    {
      "cell_type": "code",
      "execution_count": 11,
      "metadata": {
        "id": "PyVozI2U1L86"
      },
      "outputs": [],
      "source": [
        "def convert_vector_to_tensor(vectors):\n",
        "  tensor_list = []\n",
        "  for vector in vectors:\n",
        "    tensor = torch.from_numpy(vector)\n",
        "    tensor_list.append(tensor)\n",
        "  return tensor_list"
      ]
    },
    {
      "cell_type": "code",
      "execution_count": 12,
      "metadata": {
        "id": "H9Bem2NevTDX"
      },
      "outputs": [],
      "source": [
        "numpy_train_X = convert_list_to_numpy(train_X)\n",
        "tensor_train_X = convert_vector_to_tensor(numpy_train_X)\n",
        "numpy_val_X = convert_list_to_numpy(val_X)\n",
        "tensor_val_X = convert_vector_to_tensor(numpy_val_X)"
      ]
    },
    {
      "cell_type": "code",
      "execution_count": 13,
      "metadata": {
        "id": "KMfu7_3EAN2h"
      },
      "outputs": [],
      "source": [
        "numpy_train_Y = convert_list_to_numpy(train_Y)\n",
        "tensor_train_Y = convert_vector_to_tensor(numpy_train_Y)\n",
        "numpy_val_Y = convert_list_to_numpy(val_Y)\n",
        "tensor_val_Y = convert_vector_to_tensor(numpy_val_Y)"
      ]
    },
    {
      "attachments": {},
      "cell_type": "markdown",
      "metadata": {
        "id": "Y5GPE1KltQdU"
      },
      "source": [
        "# Multi Modal"
      ]
    },
    {
      "cell_type": "code",
      "execution_count": 14,
      "metadata": {
        "colab": {
          "base_uri": "https://localhost:8080/"
        },
        "id": "J6wMOuja319d",
        "outputId": "f11bb7d5-c533-4f57-8b55-e816b3c6d191"
      },
      "outputs": [
        {
          "name": "stdout",
          "output_type": "stream",
          "text": [
            "Requirement already satisfied: torchmetrics in c:\\users\\junghwan\\anaconda3\\lib\\site-packages (0.11.4)\n",
            "Requirement already satisfied: torch>=1.8.1 in c:\\users\\junghwan\\anaconda3\\lib\\site-packages (from torchmetrics) (1.12.1+cu113)\n",
            "Requirement already satisfied: packaging in c:\\users\\junghwan\\anaconda3\\lib\\site-packages (from torchmetrics) (21.3)\n",
            "Requirement already satisfied: numpy>=1.17.2 in c:\\users\\junghwan\\anaconda3\\lib\\site-packages (from torchmetrics) (1.21.5)\n",
            "Requirement already satisfied: typing-extensions in c:\\users\\junghwan\\anaconda3\\lib\\site-packages (from torch>=1.8.1->torchmetrics) (4.3.0)\n",
            "Requirement already satisfied: pyparsing!=3.0.5,>=2.0.2 in c:\\users\\junghwan\\anaconda3\\lib\\site-packages (from packaging->torchmetrics) (3.0.9)\n"
          ]
        }
      ],
      "source": [
        "!pip install torchmetrics"
      ]
    },
    {
      "cell_type": "code",
      "execution_count": 15,
      "metadata": {
        "id": "5gvCLnqiuynZ"
      },
      "outputs": [],
      "source": [
        "def early_stopping(loss_history, patience=10, lowerbound_loss = 1e-4):\n",
        "    for i in range(1, patience):\n",
        "        try: \n",
        "          if loss_history[-i] < loss_history[-(i+1)] and loss_history[-i] >= lowerbound_loss:\n",
        "              patience = 10\n",
        "              return False ## 훈련 계속 진행\n",
        "              # 현재 에포크의 손실 값이 이전 에포크의 손실 값보다 작거나 같으면서,\n",
        "              # 또는 현재 에포크의 손실 값이 1e-4보다 크면 훈련을 계속 진행 (조기 종료하지 않음)\n",
        "        except: ## 남은게 10개 안남았을 때,\n",
        "          pass\n",
        "    return True # 조기 종료로 판단하여 훈련을 종료"
      ]
    },
    {
      "cell_type": "code",
      "execution_count": 16,
      "metadata": {
        "id": "NOREFMrs2dun"
      },
      "outputs": [],
      "source": [
        "from torchmetrics.classification import BinaryF1Score\n",
        "from torchmetrics.classification import BinaryAccuracy\n",
        "\n",
        "def evaluation(inputs, targets):\n",
        "    criterion = nn.BCELoss().to(DEVICE)\n",
        "    predictions = torch.tensor([], dtype=torch.float).to(DEVICE) # 예측값을 저장하는 텐서\n",
        "    actual = torch.tensor([], dtype=torch.float).to(DEVICE) # 실제값을 저장하는 텐서\n",
        "\n",
        "    with torch.no_grad():\n",
        "        model.eval() # 평가를 할 때에는 반드시 .eval()  사용\n",
        "        for x, y in zip(inputs, targets):\n",
        "            x = x.view(1, -1, 1).float().to(DEVICE)\n",
        "            y = torch.tensor(y).view(-1, 1).float().to(DEVICE)\n",
        "            output = model(x)\n",
        "            #print(type(output))\n",
        "            predictions = torch.cat((predictions, output.to(DEVICE)), 0) # cat을 통해 예측값을 누적\n",
        "            actual = torch.cat((actual, y.to(DEVICE)), 0) # cat을 통해 실제값을 누적\n",
        "\n",
        "    bce = criterion(predictions, actual)\n",
        "    metric_f1 = BinaryF1Score(threshold = 0.5).to(DEVICE)\n",
        "    f1 = metric_f1(predictions, actual)\n",
        "    metric_acc = BinaryAccuracy().to(DEVICE)\n",
        "    acc = metric_acc(predictions, actual)\n",
        "    \n",
        "    model.train()\n",
        "    return bce, acc, f1"
      ]
    },
    {
      "cell_type": "code",
      "execution_count": 28,
      "metadata": {
        "id": "Z5AHNNFVF4M9"
      },
      "outputs": [],
      "source": [
        "# LSTM model definition\n",
        "class LSTM(nn.Module):\n",
        "    def __init__(self, input_size, hidden_size, output_size):\n",
        "        super(LSTM, self).__init__()\n",
        "        self.lstm = nn.LSTM(input_size, hidden_size, batch_first=True)\n",
        "        #self.linear = nn.Linear(hidden_size, output_size)\n",
        "        #self.dense = nn.Linear(in_features=output_size, out_features=1)\n",
        "        self.dense = nn.Linear(in_features=hidden_size, out_features=1)\n",
        "\n",
        "    def forward(self, x):\n",
        "        output, _ = self.lstm(x)\n",
        "        #output = self.linear(output[:, -1, :])\n",
        "        output = self.dense(output[:, -1, :])\n",
        "        output = torch.sigmoid(output)\n",
        "        return output"
      ]
    },
    {
      "cell_type": "code",
      "execution_count": 18,
      "metadata": {
        "colab": {
          "base_uri": "https://localhost:8080/"
        },
        "id": "PAo0p1xWQPCO",
        "outputId": "2422ed18-312c-401d-a5a3-69c65eee21dd"
      },
      "outputs": [
        {
          "name": "stdout",
          "output_type": "stream",
          "text": [
            "cuda\n"
          ]
        }
      ],
      "source": [
        "if torch.cuda.is_available():\n",
        "    DEVICE = 'cuda'\n",
        "else:\n",
        "    DEVICE = 'cpu'\n",
        "print(DEVICE)"
      ]
    },
    {
      "cell_type": "code",
      "execution_count": 19,
      "metadata": {},
      "outputs": [],
      "source": [
        "for tensor_list in [tensor_train_X, tensor_train_Y, tensor_val_X, tensor_val_Y]:\n",
        "    for tensor in tensor_list:\n",
        "        tensor.to(DEVICE)"
      ]
    },
    {
      "cell_type": "code",
      "execution_count": 50,
      "metadata": {
        "colab": {
          "base_uri": "https://localhost:8080/"
        },
        "id": "EzqN_CRVud7r",
        "outputId": "d39e9660-dc50-4381-d5f1-bca976bce3dc"
      },
      "outputs": [
        {
          "name": "stderr",
          "output_type": "stream",
          "text": [
            "C:\\Users\\JungHwan\\AppData\\Local\\Temp\\ipykernel_25744\\1889170644.py:28: UserWarning: To copy construct from a tensor, it is recommended to use sourceTensor.clone().detach() or sourceTensor.clone().detach().requires_grad_(True), rather than torch.tensor(sourceTensor).\n",
            "  y = torch.tensor(y).view(-1, 1).float().to(DEVICE)\n",
            "C:\\Users\\JungHwan\\AppData\\Local\\Temp\\ipykernel_25744\\2206577083.py:13: UserWarning: To copy construct from a tensor, it is recommended to use sourceTensor.clone().detach() or sourceTensor.clone().detach().requires_grad_(True), rather than torch.tensor(sourceTensor).\n",
            "  y = torch.tensor(y).view(-1, 1).float().to(DEVICE)\n"
          ]
        },
        {
          "name": "stdout",
          "output_type": "stream",
          "text": [
            "EPOCH 1 --- Train Loss: 0.6919, Validation Loss: 0.6864, Train Accuracy: 0.5000, Validation Accuracy: 0.5789, Train F1: 0.0000, Validation F1: 0.0000\n",
            "EPOCH 2 --- Train Loss: 0.6905, Validation Loss: 0.6834, Train Accuracy: 0.5000, Validation Accuracy: 0.5789, Train F1: 0.0000, Validation F1: 0.0000\n",
            "EPOCH 3 --- Train Loss: 0.6524, Validation Loss: 0.6421, Train Accuracy: 0.7716, Validation Accuracy: 0.7895, Train F1: 0.7040, Validation F1: 0.6667\n",
            "EPOCH 4 --- Train Loss: 0.6869, Validation Loss: 0.6934, Train Accuracy: 0.5000, Validation Accuracy: 0.4211, Train F1: 0.6667, Validation F1: 0.5926\n",
            "EPOCH 5 --- Train Loss: 0.3451, Validation Loss: 0.3248, Train Accuracy: 0.9938, Validation Accuracy: 1.0000, Train F1: 0.9939, Validation F1: 1.0000\n",
            "EPOCH 6 --- Train Loss: 0.0820, Validation Loss: 0.0783, Train Accuracy: 1.0000, Validation Accuracy: 1.0000, Train F1: 1.0000, Validation F1: 1.0000\n",
            "EPOCH 7 --- Train Loss: 0.7259, Validation Loss: 0.7583, Train Accuracy: 0.5000, Validation Accuracy: 0.4211, Train F1: 0.6667, Validation F1: 0.5926\n",
            "EPOCH 8 --- Train Loss: 0.6913, Validation Loss: 0.6931, Train Accuracy: 0.4938, Validation Accuracy: 0.4211, Train F1: 0.6612, Validation F1: 0.5926\n",
            "EPOCH 9 --- Train Loss: 0.6862, Validation Loss: 0.6763, Train Accuracy: 0.5617, Validation Accuracy: 0.6316, Train F1: 0.6698, Validation F1: 0.6316\n",
            "EPOCH 10 --- Train Loss: 0.6848, Validation Loss: 0.6696, Train Accuracy: 0.6111, Validation Accuracy: 0.7368, Train F1: 0.6769, Validation F1: 0.7059\n",
            "EPOCH 11 --- Train Loss: 0.6838, Validation Loss: 0.6654, Train Accuracy: 0.6481, Validation Accuracy: 0.7895, Train F1: 0.6743, Validation F1: 0.7500\n",
            "EPOCH 12 --- Train Loss: 0.6827, Validation Loss: 0.6622, Train Accuracy: 0.6358, Validation Accuracy: 0.8421, Train F1: 0.6550, Validation F1: 0.8000\n",
            "EPOCH 13 --- Train Loss: 0.6815, Validation Loss: 0.6591, Train Accuracy: 0.6358, Validation Accuracy: 0.7895, Train F1: 0.6509, Validation F1: 0.7143\n",
            "EPOCH 14 --- Train Loss: 0.6803, Validation Loss: 0.6560, Train Accuracy: 0.6481, Validation Accuracy: 0.7895, Train F1: 0.6627, Validation F1: 0.7143\n",
            "EPOCH 15 --- Train Loss: 0.6790, Validation Loss: 0.6528, Train Accuracy: 0.6543, Validation Accuracy: 0.7895, Train F1: 0.6706, Validation F1: 0.7143\n",
            "EPOCH 16 --- Train Loss: 0.6775, Validation Loss: 0.6494, Train Accuracy: 0.6543, Validation Accuracy: 0.8421, Train F1: 0.6706, Validation F1: 0.8000\n",
            "EPOCH 17 --- Train Loss: 0.6759, Validation Loss: 0.6457, Train Accuracy: 0.6605, Validation Accuracy: 0.8421, Train F1: 0.6784, Validation F1: 0.8000\n",
            "EPOCH 18 --- Train Loss: 0.6741, Validation Loss: 0.6417, Train Accuracy: 0.6605, Validation Accuracy: 0.8421, Train F1: 0.6784, Validation F1: 0.8000\n",
            "EPOCH 19 --- Train Loss: 0.6720, Validation Loss: 0.6373, Train Accuracy: 0.6667, Validation Accuracy: 0.8421, Train F1: 0.6860, Validation F1: 0.8000\n",
            "EPOCH 20 --- Train Loss: 0.6696, Validation Loss: 0.6323, Train Accuracy: 0.6790, Validation Accuracy: 0.8421, Train F1: 0.7011, Validation F1: 0.8000\n",
            "EPOCH 21 --- Train Loss: 0.6668, Validation Loss: 0.6266, Train Accuracy: 0.6790, Validation Accuracy: 0.8421, Train F1: 0.7011, Validation F1: 0.8000\n",
            "EPOCH 22 --- Train Loss: 0.6635, Validation Loss: 0.6201, Train Accuracy: 0.6790, Validation Accuracy: 0.8421, Train F1: 0.7011, Validation F1: 0.8000\n",
            "EPOCH 23 --- Train Loss: 0.6595, Validation Loss: 0.6125, Train Accuracy: 0.6852, Validation Accuracy: 0.8421, Train F1: 0.7086, Validation F1: 0.8000\n",
            "EPOCH 24 --- Train Loss: 0.6545, Validation Loss: 0.6036, Train Accuracy: 0.6975, Validation Accuracy: 0.8421, Train F1: 0.7232, Validation F1: 0.8000\n",
            "EPOCH 25 --- Train Loss: 0.6483, Validation Loss: 0.5929, Train Accuracy: 0.7037, Validation Accuracy: 0.8421, Train F1: 0.7273, Validation F1: 0.8000\n",
            "EPOCH 26 --- Train Loss: 0.6406, Validation Loss: 0.5802, Train Accuracy: 0.6975, Validation Accuracy: 0.8421, Train F1: 0.7232, Validation F1: 0.8000\n",
            "EPOCH 27 --- Train Loss: 0.6308, Validation Loss: 0.5649, Train Accuracy: 0.7037, Validation Accuracy: 0.8421, Train F1: 0.7273, Validation F1: 0.8000\n",
            "EPOCH 28 --- Train Loss: 0.6180, Validation Loss: 0.5461, Train Accuracy: 0.7222, Validation Accuracy: 0.8421, Train F1: 0.7429, Validation F1: 0.8000\n",
            "EPOCH 29 --- Train Loss: 0.6009, Validation Loss: 0.5229, Train Accuracy: 0.7346, Validation Accuracy: 0.8421, Train F1: 0.7514, Validation F1: 0.8000\n",
            "EPOCH 30 --- Train Loss: 0.5771, Validation Loss: 0.4934, Train Accuracy: 0.7654, Validation Accuracy: 0.7895, Train F1: 0.7791, Validation F1: 0.7143\n",
            "EPOCH 31 --- Train Loss: 0.5412, Validation Loss: 0.4553, Train Accuracy: 0.7901, Validation Accuracy: 0.8421, Train F1: 0.8000, Validation F1: 0.7692\n",
            "EPOCH 32 --- Train Loss: 0.4771, Validation Loss: 0.4026, Train Accuracy: 0.8333, Validation Accuracy: 0.8421, Train F1: 0.8344, Validation F1: 0.7692\n",
            "EPOCH 33 --- Train Loss: 0.3524, Validation Loss: 0.3426, Train Accuracy: 0.8765, Validation Accuracy: 0.8421, Train F1: 0.8684, Validation F1: 0.7692\n",
            "EPOCH 34 --- Train Loss: 0.2635, Validation Loss: 0.3527, Train Accuracy: 0.9136, Validation Accuracy: 0.8421, Train F1: 0.9079, Validation F1: 0.7692\n",
            "EPOCH 35 --- Train Loss: 0.2015, Validation Loss: 0.1454, Train Accuracy: 0.9506, Validation Accuracy: 1.0000, Train F1: 0.9506, Validation F1: 1.0000\n",
            "EPOCH 36 --- Train Loss: 0.3737, Validation Loss: 0.2739, Train Accuracy: 0.8765, Validation Accuracy: 1.0000, Train F1: 0.8901, Validation F1: 1.0000\n",
            "EPOCH 37 --- Train Loss: 0.2686, Validation Loss: 0.2958, Train Accuracy: 0.9506, Validation Accuracy: 0.8947, Train F1: 0.9512, Validation F1: 0.8571\n",
            "EPOCH 38 --- Train Loss: 0.2338, Validation Loss: 0.3014, Train Accuracy: 0.9444, Validation Accuracy: 0.8947, Train F1: 0.9448, Validation F1: 0.8571\n",
            "EPOCH 39 --- Train Loss: 0.2140, Validation Loss: 0.2917, Train Accuracy: 0.9444, Validation Accuracy: 0.8947, Train F1: 0.9455, Validation F1: 0.8571\n",
            "EPOCH 40 --- Train Loss: 0.1995, Validation Loss: 0.2720, Train Accuracy: 0.9383, Validation Accuracy: 0.8947, Train F1: 0.9390, Validation F1: 0.8571\n",
            "EPOCH 41 --- Train Loss: 0.1891, Validation Loss: 0.2204, Train Accuracy: 0.9383, Validation Accuracy: 0.8947, Train F1: 0.9390, Validation F1: 0.8571\n",
            "EPOCH 42 --- Train Loss: 0.1805, Validation Loss: 0.1659, Train Accuracy: 0.9383, Validation Accuracy: 0.9474, Train F1: 0.9390, Validation F1: 0.9333\n",
            "EPOCH 43 --- Train Loss: 0.1766, Validation Loss: 0.2145, Train Accuracy: 0.9383, Validation Accuracy: 0.8947, Train F1: 0.9390, Validation F1: 0.8571\n",
            "EPOCH 44 --- Train Loss: 0.1682, Validation Loss: 0.0931, Train Accuracy: 0.9444, Validation Accuracy: 1.0000, Train F1: 0.9448, Validation F1: 1.0000\n",
            "EPOCH 45 --- Train Loss: 0.1618, Validation Loss: 0.1064, Train Accuracy: 0.9506, Validation Accuracy: 0.9474, Train F1: 0.9506, Validation F1: 0.9333\n",
            "EPOCH 46 --- Train Loss: 0.1538, Validation Loss: 0.0927, Train Accuracy: 0.9568, Validation Accuracy: 1.0000, Train F1: 0.9565, Validation F1: 1.0000\n",
            "EPOCH 47 --- Train Loss: 0.1914, Validation Loss: 0.2263, Train Accuracy: 0.9383, Validation Accuracy: 0.9474, Train F1: 0.9359, Validation F1: 0.9333\n",
            "EPOCH 48 --- Train Loss: 0.1828, Validation Loss: 0.0785, Train Accuracy: 0.9383, Validation Accuracy: 1.0000, Train F1: 0.9359, Validation F1: 1.0000\n",
            "EPOCH 49 --- Train Loss: 0.1285, Validation Loss: 0.0472, Train Accuracy: 0.9630, Validation Accuracy: 1.0000, Train F1: 0.9625, Validation F1: 1.0000\n",
            "EPOCH 50 --- Train Loss: 0.1162, Validation Loss: 0.0409, Train Accuracy: 0.9753, Validation Accuracy: 1.0000, Train F1: 0.9753, Validation F1: 1.0000\n"
          ]
        }
      ],
      "source": [
        "input_size = 1  # 입력 텐서의 feature 차원 크기\n",
        "hidden_size = 16\n",
        "output_size = 4\n",
        "num_epochs = 50\n",
        "\n",
        "# LSTM model training\n",
        "model = LSTM(input_size, hidden_size, output_size)\n",
        "model.to(DEVICE)\n",
        "criterion = nn.BCELoss().to(DEVICE)\n",
        "optimizer = torch.optim.Adam(model.parameters())\n",
        "# optimizer = torch.optim.SGD(model.parameters(), lr=0.01, momentum=0.9)\n",
        "\n",
        "loss_history_train = []\n",
        "loss_history_val = []\n",
        "acc_history_train = []\n",
        "acc_history_val = []\n",
        "f1_histroy_train = []\n",
        "f1_histroy_val = []\n",
        "patience = 10\n",
        "lowerbound_loss = 1e-4\n",
        "\n",
        "for epoch in range(num_epochs):\n",
        "    epoch_loss = 0.0\n",
        "    \n",
        "    # train\n",
        "    for x, y in zip(tensor_train_X, tensor_train_Y):\n",
        "      x = x.view(1, -1, 1).float().to(DEVICE)\n",
        "      y = torch.tensor(y).view(-1, 1).float().to(DEVICE)\n",
        "      optimizer.zero_grad()  \n",
        "      \n",
        "      output = model(x)\n",
        "      loss = criterion(output, y).to(DEVICE)\n",
        "      loss.backward()\n",
        "      optimizer.step()\n",
        "\n",
        "      #epoch_loss += loss.item()\n",
        "\n",
        "    train_bce, train_acc, train_f1 = evaluation(tensor_train_X, tensor_train_Y)\n",
        "    val_bce, val_acc, val_f1 = evaluation(tensor_val_X, tensor_val_Y)\n",
        "\n",
        "    loss_history_train.append(train_bce.item())\n",
        "    acc_history_train.append(train_acc.item())\n",
        "    f1_histroy_train.append(train_f1.item())\n",
        "    loss_history_val.append(val_bce.item())\n",
        "    acc_history_val.append(val_acc.item())\n",
        "    f1_histroy_val.append(val_f1.item())\n",
        "    print(\"EPOCH %d --- Train Loss: %.4f, Validation Loss: %.4f, Train Accuracy: %.4f, Validation Accuracy: %.4f, Train F1: %.4f, Validation F1: %.4f\" %(epoch + 1, train_bce, val_bce, train_acc, val_acc, train_f1, val_f1)) \n",
        "    torch.save(model.state_dict(), '../data/model/model_%d_state_dict.pt'%(epoch + 1))\n",
        "\n",
        "    # if early_stopping(loss_history_train, patience, lowerbound_loss):\n",
        "    #     print(\"Early stopping triggered!\")\n",
        "    #     break\n",
        "    # validaiton check"
      ]
    },
    {
      "cell_type": "code",
      "execution_count": 23,
      "metadata": {
        "id": "pB-ynli5ZRuf"
      },
      "outputs": [],
      "source": [
        "import matplotlib.pyplot as plt"
      ]
    },
    {
      "cell_type": "code",
      "execution_count": 55,
      "metadata": {},
      "outputs": [
        {
          "data": {
            "text/plain": [
              "Text(0.5, 1.0, 'Accuracy')"
            ]
          },
          "execution_count": 55,
          "metadata": {},
          "output_type": "execute_result"
        },
        {
          "data": {
            "image/png": "[encoded data removed]",
            "text/plain": [
              "<Figure size 2000x1000 with 1 Axes>"
            ]
          },
          "metadata": {},
          "output_type": "display_data"
        }
      ],
      "source": [
        "fig, ax = plt.subplots(figsize = (20, 10))\n",
        "ax.plot(acc_history_train, label = 'Train')\n",
        "ax.plot(acc_history_val, label = 'Validation')\n",
        "ax.legend(fontsize = 20)\n",
        "\n",
        "ax.set_title('Accuracy', fontsize = 30)"
      ]
    },
    {
      "cell_type": "code",
      "execution_count": 57,
      "metadata": {},
      "outputs": [
        {
          "data": {
            "text/plain": [
              "Text(0.5, 1.0, 'Loss')"
            ]
          },
          "execution_count": 57,
          "metadata": {},
          "output_type": "execute_result"
        },
        {
          "data": {
            "image/png": "[encoded data removed]",
            "text/plain": [
              "<Figure size 2000x1000 with 1 Axes>"
            ]
          },
          "metadata": {},
          "output_type": "display_data"
        }
      ],
      "source": [
        "fig, ax = plt.subplots(figsize = (20, 10))\n",
        "ax.plot(loss_history_train, label = 'Train')\n",
        "ax.plot(loss_history_val, label = 'Validation')\n",
        "ax.legend(fontsize = 20)\n",
        "ax.set_title('Loss', fontsize = 30)"
      ]
    },
    {
      "cell_type": "code",
      "execution_count": 53,
      "metadata": {},
      "outputs": [
        {
          "name": "stderr",
          "output_type": "stream",
          "text": [
            "C:\\Users\\JungHwan\\AppData\\Local\\Temp\\ipykernel_25744\\3638429277.py:7: UserWarning: To copy construct from a tensor, it is recommended to use sourceTensor.clone().detach() or sourceTensor.clone().detach().requires_grad_(True), rather than torch.tensor(sourceTensor).\n",
            "  y = torch.tensor(y).view(-1, 1).float().to(DEVICE)\n",
            "C:\\Users\\JungHwan\\AppData\\Local\\Temp\\ipykernel_25744\\2206577083.py:13: UserWarning: To copy construct from a tensor, it is recommended to use sourceTensor.clone().detach() or sourceTensor.clone().detach().requires_grad_(True), rather than torch.tensor(sourceTensor).\n",
            "  y = torch.tensor(y).view(-1, 1).float().to(DEVICE)\n"
          ]
        },
        {
          "name": "stdout",
          "output_type": "stream",
          "text": [
            "EPOCH 51 --- Train Loss: 0.0930, Validation Loss: 0.0379, Train Accuracy: 0.9815, Validation Accuracy: 1.0000, Train F1: 0.9814, Validation F1: 1.0000\n",
            "EPOCH 52 --- Train Loss: 0.1008, Validation Loss: 0.0390, Train Accuracy: 0.9691, Validation Accuracy: 1.0000, Train F1: 0.9689, Validation F1: 1.0000\n",
            "EPOCH 53 --- Train Loss: 0.0797, Validation Loss: 0.0345, Train Accuracy: 0.9815, Validation Accuracy: 1.0000, Train F1: 0.9816, Validation F1: 1.0000\n",
            "EPOCH 54 --- Train Loss: 0.1812, Validation Loss: 0.0356, Train Accuracy: 0.9383, Validation Accuracy: 1.0000, Train F1: 0.9351, Validation F1: 1.0000\n",
            "EPOCH 55 --- Train Loss: 0.1640, Validation Loss: 0.0338, Train Accuracy: 0.9506, Validation Accuracy: 1.0000, Train F1: 0.9487, Validation F1: 1.0000\n",
            "EPOCH 56 --- Train Loss: 0.1437, Validation Loss: 0.0328, Train Accuracy: 0.9568, Validation Accuracy: 1.0000, Train F1: 0.9554, Validation F1: 1.0000\n",
            "EPOCH 57 --- Train Loss: 0.0611, Validation Loss: 0.0283, Train Accuracy: 0.9938, Validation Accuracy: 1.0000, Train F1: 0.9939, Validation F1: 1.0000\n",
            "EPOCH 58 --- Train Loss: 0.0557, Validation Loss: 0.0244, Train Accuracy: 0.9938, Validation Accuracy: 1.0000, Train F1: 0.9939, Validation F1: 1.0000\n",
            "EPOCH 59 --- Train Loss: 0.0514, Validation Loss: 0.0213, Train Accuracy: 0.9938, Validation Accuracy: 1.0000, Train F1: 0.9939, Validation F1: 1.0000\n",
            "EPOCH 60 --- Train Loss: 0.0478, Validation Loss: 0.0188, Train Accuracy: 0.9938, Validation Accuracy: 1.0000, Train F1: 0.9939, Validation F1: 1.0000\n",
            "EPOCH 61 --- Train Loss: 0.0444, Validation Loss: 0.0167, Train Accuracy: 0.9938, Validation Accuracy: 1.0000, Train F1: 0.9939, Validation F1: 1.0000\n",
            "EPOCH 62 --- Train Loss: 0.0402, Validation Loss: 0.0149, Train Accuracy: 0.9938, Validation Accuracy: 1.0000, Train F1: 0.9939, Validation F1: 1.0000\n",
            "EPOCH 63 --- Train Loss: 0.0351, Validation Loss: 0.0133, Train Accuracy: 0.9938, Validation Accuracy: 1.0000, Train F1: 0.9939, Validation F1: 1.0000\n",
            "EPOCH 64 --- Train Loss: 0.0391, Validation Loss: 0.0114, Train Accuracy: 0.9938, Validation Accuracy: 1.0000, Train F1: 0.9939, Validation F1: 1.0000\n",
            "EPOCH 65 --- Train Loss: 0.0362, Validation Loss: 0.0103, Train Accuracy: 0.9938, Validation Accuracy: 1.0000, Train F1: 0.9939, Validation F1: 1.0000\n",
            "EPOCH 66 --- Train Loss: 0.0335, Validation Loss: 0.0096, Train Accuracy: 0.9938, Validation Accuracy: 1.0000, Train F1: 0.9939, Validation F1: 1.0000\n",
            "EPOCH 67 --- Train Loss: 0.0335, Validation Loss: 0.0094, Train Accuracy: 0.9938, Validation Accuracy: 1.0000, Train F1: 0.9939, Validation F1: 1.0000\n",
            "EPOCH 68 --- Train Loss: 0.0305, Validation Loss: 0.0081, Train Accuracy: 0.9938, Validation Accuracy: 1.0000, Train F1: 0.9939, Validation F1: 1.0000\n",
            "EPOCH 69 --- Train Loss: 0.0186, Validation Loss: 0.0074, Train Accuracy: 0.9938, Validation Accuracy: 1.0000, Train F1: 0.9938, Validation F1: 1.0000\n",
            "EPOCH 70 --- Train Loss: 0.0160, Validation Loss: 0.0066, Train Accuracy: 1.0000, Validation Accuracy: 1.0000, Train F1: 1.0000, Validation F1: 1.0000\n",
            "EPOCH 71 --- Train Loss: 0.0126, Validation Loss: 0.0059, Train Accuracy: 1.0000, Validation Accuracy: 1.0000, Train F1: 1.0000, Validation F1: 1.0000\n",
            "EPOCH 72 --- Train Loss: 0.0176, Validation Loss: 0.0069, Train Accuracy: 0.9938, Validation Accuracy: 1.0000, Train F1: 0.9939, Validation F1: 1.0000\n",
            "EPOCH 73 --- Train Loss: 0.0215, Validation Loss: 0.0065, Train Accuracy: 0.9938, Validation Accuracy: 1.0000, Train F1: 0.9939, Validation F1: 1.0000\n",
            "EPOCH 74 --- Train Loss: 0.0152, Validation Loss: 0.0056, Train Accuracy: 0.9938, Validation Accuracy: 1.0000, Train F1: 0.9939, Validation F1: 1.0000\n",
            "EPOCH 75 --- Train Loss: 0.0139, Validation Loss: 0.0051, Train Accuracy: 0.9938, Validation Accuracy: 1.0000, Train F1: 0.9939, Validation F1: 1.0000\n",
            "EPOCH 76 --- Train Loss: 0.0122, Validation Loss: 0.0047, Train Accuracy: 1.0000, Validation Accuracy: 1.0000, Train F1: 1.0000, Validation F1: 1.0000\n",
            "EPOCH 77 --- Train Loss: 0.0076, Validation Loss: 0.0043, Train Accuracy: 1.0000, Validation Accuracy: 1.0000, Train F1: 1.0000, Validation F1: 1.0000\n",
            "EPOCH 78 --- Train Loss: 0.0058, Validation Loss: 0.0039, Train Accuracy: 1.0000, Validation Accuracy: 1.0000, Train F1: 1.0000, Validation F1: 1.0000\n",
            "EPOCH 79 --- Train Loss: 0.0048, Validation Loss: 0.0036, Train Accuracy: 1.0000, Validation Accuracy: 1.0000, Train F1: 1.0000, Validation F1: 1.0000\n",
            "EPOCH 80 --- Train Loss: 0.0043, Validation Loss: 0.0033, Train Accuracy: 1.0000, Validation Accuracy: 1.0000, Train F1: 1.0000, Validation F1: 1.0000\n",
            "EPOCH 81 --- Train Loss: 0.0038, Validation Loss: 0.0030, Train Accuracy: 1.0000, Validation Accuracy: 1.0000, Train F1: 1.0000, Validation F1: 1.0000\n",
            "EPOCH 82 --- Train Loss: 0.0034, Validation Loss: 0.0027, Train Accuracy: 1.0000, Validation Accuracy: 1.0000, Train F1: 1.0000, Validation F1: 1.0000\n",
            "EPOCH 83 --- Train Loss: 0.0031, Validation Loss: 0.0025, Train Accuracy: 1.0000, Validation Accuracy: 1.0000, Train F1: 1.0000, Validation F1: 1.0000\n",
            "EPOCH 84 --- Train Loss: 0.0028, Validation Loss: 0.0023, Train Accuracy: 1.0000, Validation Accuracy: 1.0000, Train F1: 1.0000, Validation F1: 1.0000\n",
            "EPOCH 85 --- Train Loss: 0.0026, Validation Loss: 0.0021, Train Accuracy: 1.0000, Validation Accuracy: 1.0000, Train F1: 1.0000, Validation F1: 1.0000\n",
            "EPOCH 86 --- Train Loss: 0.0024, Validation Loss: 0.0019, Train Accuracy: 1.0000, Validation Accuracy: 1.0000, Train F1: 1.0000, Validation F1: 1.0000\n",
            "EPOCH 87 --- Train Loss: 0.0021, Validation Loss: 0.0018, Train Accuracy: 1.0000, Validation Accuracy: 1.0000, Train F1: 1.0000, Validation F1: 1.0000\n",
            "EPOCH 88 --- Train Loss: 0.0020, Validation Loss: 0.0016, Train Accuracy: 1.0000, Validation Accuracy: 1.0000, Train F1: 1.0000, Validation F1: 1.0000\n",
            "EPOCH 89 --- Train Loss: 0.0018, Validation Loss: 0.0015, Train Accuracy: 1.0000, Validation Accuracy: 1.0000, Train F1: 1.0000, Validation F1: 1.0000\n",
            "EPOCH 90 --- Train Loss: 0.0016, Validation Loss: 0.0014, Train Accuracy: 1.0000, Validation Accuracy: 1.0000, Train F1: 1.0000, Validation F1: 1.0000\n",
            "EPOCH 91 --- Train Loss: 0.0015, Validation Loss: 0.0012, Train Accuracy: 1.0000, Validation Accuracy: 1.0000, Train F1: 1.0000, Validation F1: 1.0000\n",
            "EPOCH 92 --- Train Loss: 0.0014, Validation Loss: 0.0011, Train Accuracy: 1.0000, Validation Accuracy: 1.0000, Train F1: 1.0000, Validation F1: 1.0000\n",
            "EPOCH 93 --- Train Loss: 0.0012, Validation Loss: 0.0010, Train Accuracy: 1.0000, Validation Accuracy: 1.0000, Train F1: 1.0000, Validation F1: 1.0000\n",
            "EPOCH 94 --- Train Loss: 0.0011, Validation Loss: 0.0010, Train Accuracy: 1.0000, Validation Accuracy: 1.0000, Train F1: 1.0000, Validation F1: 1.0000\n",
            "EPOCH 95 --- Train Loss: 0.0010, Validation Loss: 0.0009, Train Accuracy: 1.0000, Validation Accuracy: 1.0000, Train F1: 1.0000, Validation F1: 1.0000\n",
            "EPOCH 96 --- Train Loss: 0.0009, Validation Loss: 0.0008, Train Accuracy: 1.0000, Validation Accuracy: 1.0000, Train F1: 1.0000, Validation F1: 1.0000\n",
            "EPOCH 97 --- Train Loss: 0.0009, Validation Loss: 0.0007, Train Accuracy: 1.0000, Validation Accuracy: 1.0000, Train F1: 1.0000, Validation F1: 1.0000\n",
            "EPOCH 98 --- Train Loss: 0.0008, Validation Loss: 0.0007, Train Accuracy: 1.0000, Validation Accuracy: 1.0000, Train F1: 1.0000, Validation F1: 1.0000\n",
            "EPOCH 99 --- Train Loss: 0.0007, Validation Loss: 0.0006, Train Accuracy: 1.0000, Validation Accuracy: 1.0000, Train F1: 1.0000, Validation F1: 1.0000\n",
            "EPOCH 100 --- Train Loss: 0.0007, Validation Loss: 0.0006, Train Accuracy: 1.0000, Validation Accuracy: 1.0000, Train F1: 1.0000, Validation F1: 1.0000\n"
          ]
        }
      ],
      "source": [
        "for epoch in range(50, 100, 1):\n",
        "    epoch_loss = 0.0\n",
        "    \n",
        "    # train\n",
        "    for x, y in zip(tensor_train_X, tensor_train_Y):\n",
        "      x = x.view(1, -1, 1).float().to(DEVICE)\n",
        "      y = torch.tensor(y).view(-1, 1).float().to(DEVICE)\n",
        "      optimizer.zero_grad()  \n",
        "      \n",
        "      output = model(x)\n",
        "      loss = criterion(output, y).to(DEVICE)\n",
        "      loss.backward()\n",
        "      optimizer.step()\n",
        "\n",
        "      #epoch_loss += loss.item()\n",
        "\n",
        "    train_bce, train_acc, train_f1 = evaluation(tensor_train_X, tensor_train_Y)\n",
        "    val_bce, val_acc, val_f1 = evaluation(tensor_val_X, tensor_val_Y)\n",
        "\n",
        "    loss_history_train.append(train_bce.item())\n",
        "    acc_history_train.append(train_acc.item())\n",
        "    f1_histroy_train.append(train_f1.item())\n",
        "    loss_history_val.append(val_bce.item())\n",
        "    acc_history_val.append(val_acc.item())\n",
        "    f1_histroy_val.append(val_f1.item())\n",
        "    print(\"EPOCH %d --- Train Loss: %.4f, Validation Loss: %.4f, Train Accuracy: %.4f, Validation Accuracy: %.4f, Train F1: %.4f, Validation F1: %.4f\" %(epoch + 1, train_bce, val_bce, train_acc, val_acc, train_f1, val_f1)) \n",
        "    torch.save(model.state_dict(), '../data/model/model_%d_state_dict.pt'%(epoch + 1))"
      ]
    },
    {
      "cell_type": "code",
      "execution_count": null,
      "metadata": {},
      "outputs": [],
      "source": []
    }
  ],
  "metadata": {
    "accelerator": "GPU",
    "colab": {
      "gpuType": "T4",
      "provenance": []
    },
    "kernelspec": {
      "display_name": "Python 3",
      "name": "python3"
    },
    "language_info": {
      "codemirror_mode": {
        "name": "ipython",
        "version": 3
      },
      "file_extension": ".py",
      "mimetype": "text/x-python",
      "name": "python",
      "nbconvert_exporter": "python",
      "pygments_lexer": "ipython3",
      "version": "3.9.13"
    }
  },
  "nbformat": 4,
  "nbformat_minor": 0
}
