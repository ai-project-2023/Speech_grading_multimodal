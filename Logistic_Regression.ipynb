{
  "nbformat": 4,
  "nbformat_minor": 0,
  "metadata": {
    "colab": {
      "provenance": [],
      "authorship_tag": "ABX9TyPRPaCaGoIf9vwmyJwL6qJj",
      "include_colab_link": true
    },
    "kernelspec": {
      "name": "python3",
      "display_name": "Python 3"
    },
    "language_info": {
      "name": "python"
    }
  },
  "cells": [
    {
      "cell_type": "markdown",
      "metadata": {
        "id": "view-in-github",
        "colab_type": "text"
      },
      "source": [
        "<a href=\"https://colab.research.google.com/github/ai-project-2023/Speech_grading_multimodal/blob/nlp%2Fspeechtotext/Logistic_Regression.ipynb\" target=\"_parent\"><img src=\"https://colab.research.google.com/assets/colab-badge.svg\" alt=\"Open In Colab\"/></a>"
      ]
    },
    {
      "cell_type": "markdown",
      "source": [
        "# Logistic Regression"
      ],
      "metadata": {
        "id": "riXNBVyxu6N-"
      }
    },
    {
      "cell_type": "code",
      "source": [
        "import pandas as pd\n",
        "import numpy as np"
      ],
      "metadata": {
        "id": "y_C6gS26ukkZ"
      },
      "execution_count": null,
      "outputs": []
    },
    {
      "cell_type": "code",
      "source": [
        "bad_sim = pd.read_csv('/content/drive/MyDrive/AI_Project_14/speechtotext/bad_audio_info_sim.csv')['cos_sim']\n",
        "bad_label = pd.read_csv('/content/drive/MyDrive/AI_Project_14/speechtotext/bad_audio_info_sim.csv')['label']\n",
        "good_sim = pd.read_csv('/content/drive/MyDrive/AI_Project_14/speechtotext/good_audio_info_sim.csv')['cos_sim']\n",
        "good_label = pd.read_csv('/content/drive/MyDrive/AI_Project_14/speechtotext/good_audio_info_sim.csv')['label']"
      ],
      "metadata": {
        "id": "O9OjK2tQvCUw"
      },
      "execution_count": null,
      "outputs": []
    },
    {
      "cell_type": "code",
      "source": [
        "X_train=bad_sim.to_list()+good_sim.to_list()\n",
        "y_train=bad_label.to_list()+good_label.to_list()\n",
        "X_train = np.array(X_train)\n",
        "y_train = np.array(y_train)\n",
        "X_train = X_train.reshape(-1, 1)\n",
        "y_train = y_train.reshape(-1, 1)"
      ],
      "metadata": {
        "id": "cz3ysGMGvJr4"
      },
      "execution_count": null,
      "outputs": []
    },
    {
      "cell_type": "code",
      "source": [
        "from sklearn.linear_model import LogisticRegression\n",
        "from sklearn.metrics import log_loss\n",
        "from sklearn.model_selection import KFold\n",
        "\n",
        "# Define the number of folds\n",
        "num_folds = 10\n",
        "\n",
        "# Create arrays to store the loss values\n",
        "train_losses = []\n",
        "val_losses = []\n",
        "\n",
        "# Create a logistic regression model\n",
        "clf_model = LogisticRegression()\n",
        "\n",
        "# Perform K-fold cross-validation\n",
        "kf = KFold(n_splits=num_folds)\n",
        "\n",
        "fold = 1\n",
        "\n",
        "for train_index, val_index in kf.split(X_train):\n",
        "    X_train_fold, X_val_fold = X_train[train_index], X_train[val_index]\n",
        "    y_train_fold, y_val_fold = y_train[train_index], y_train[val_index]\n",
        "\n",
        "    # Train the model\n",
        "    clf_model.fit(X_train_fold, y_train_fold)\n",
        "    \n",
        "    # Predict probabilities for train and validation data\n",
        "    train_probs = clf_model.predict_proba(X_train_fold)\n",
        "    val_probs = clf_model.predict_proba(X_val_fold)\n",
        "    \n",
        "    # Calculate log loss for train and validation data\n",
        "    train_loss = log_loss(y_train_fold, train_probs)\n",
        "    val_loss = log_loss(y_val_fold, val_probs)\n",
        "    \n",
        "    # Append the loss values to the lists\n",
        "    train_losses.append(train_loss)\n",
        "    val_losses.append(val_loss)\n",
        "\n",
        "    # Print the loss values for the current fold\n",
        "    print(f\"Fold {fold}: Train Loss = {train_loss}, Validation Loss = {val_loss}\")\n",
        "    fold += 1\n",
        "\n",
        "# Calculate the average loss values\n",
        "avg_train_loss = np.mean(train_losses)\n",
        "avg_val_loss = np.mean(val_losses)\n",
        "\n",
        "print(f\"\\nAverage Train Loss = {avg_train_loss}, Average Validation Loss = {avg_val_loss}\")\n"
      ],
      "metadata": {
        "id": "fDNXEWPCvQVH"
      },
      "execution_count": null,
      "outputs": []
    },
    {
      "cell_type": "code",
      "source": [
        "X_test = np.array([0.6490]).reshape(-1,1) #Cosine Similarity가 0.6490인 상황 test"
      ],
      "metadata": {
        "id": "qLY-AdvDvR9z"
      },
      "execution_count": null,
      "outputs": []
    },
    {
      "cell_type": "code",
      "source": [
        "y_pred = clf_model.predict(X_test)\n",
        "print(y_pred) #array([0])"
      ],
      "metadata": {
        "id": "TqFF4sTdvZFx"
      },
      "execution_count": null,
      "outputs": []
    }
  ]
}