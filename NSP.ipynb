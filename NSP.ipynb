{
  "cells": [
    {
      "cell_type": "markdown",
      "metadata": {
        "id": "view-in-github",
        "colab_type": "text"
      },
      "source": [
        "<a href=\"https://colab.research.google.com/github/ai-project-2023/Speech_grading_multimodal/blob/nlp%2Froberta_classification/NSP.ipynb\" target=\"_parent\"><img src=\"https://colab.research.google.com/assets/colab-badge.svg\" alt=\"Open In Colab\"/></a>"
      ]
    },
    {
      "cell_type": "code",
      "execution_count": 1,
      "metadata": {
        "colab": {
          "base_uri": "https://localhost:8080/"
        },
        "id": "Pu0TyJ5JPt-s",
        "outputId": "8ee9fb61-5c52-4edd-8db8-45b1b45b0334"
      },
      "outputs": [
        {
          "output_type": "stream",
          "name": "stdout",
          "text": [
            "Mounted at /content/drive/\n"
          ]
        }
      ],
      "source": [
        "from google.colab import drive\n",
        "drive.mount('/content/drive/')"
      ]
    },
    {
      "cell_type": "code",
      "execution_count": 2,
      "metadata": {
        "colab": {
          "base_uri": "https://localhost:8080/"
        },
        "id": "M7xqg7VGQ1Bp",
        "outputId": "3cfb1877-f087-48da-9b3e-4b66e5174382"
      },
      "outputs": [
        {
          "output_type": "stream",
          "name": "stdout",
          "text": [
            "Looking in indexes: https://pypi.org/simple, https://us-python.pkg.dev/colab-wheels/public/simple/\n",
            "Collecting transformers\n",
            "  Downloading transformers-4.29.2-py3-none-any.whl (7.1 MB)\n",
            "\u001b[2K     \u001b[90m━━━━━━━━━━━━━━━━━━━━━━━━━━━━━━━━━━━━━━━━\u001b[0m \u001b[32m7.1/7.1 MB\u001b[0m \u001b[31m44.3 MB/s\u001b[0m eta \u001b[36m0:00:00\u001b[0m\n",
            "\u001b[?25hRequirement already satisfied: filelock in /usr/local/lib/python3.10/dist-packages (from transformers) (3.12.0)\n",
            "Collecting huggingface-hub<1.0,>=0.14.1 (from transformers)\n",
            "  Downloading huggingface_hub-0.15.1-py3-none-any.whl (236 kB)\n",
            "\u001b[2K     \u001b[90m━━━━━━━━━━━━━━━━━━━━━━━━━━━━━━━━━━━━━━\u001b[0m \u001b[32m236.8/236.8 kB\u001b[0m \u001b[31m24.7 MB/s\u001b[0m eta \u001b[36m0:00:00\u001b[0m\n",
            "\u001b[?25hRequirement already satisfied: numpy>=1.17 in /usr/local/lib/python3.10/dist-packages (from transformers) (1.22.4)\n",
            "Requirement already satisfied: packaging>=20.0 in /usr/local/lib/python3.10/dist-packages (from transformers) (23.1)\n",
            "Requirement already satisfied: pyyaml>=5.1 in /usr/local/lib/python3.10/dist-packages (from transformers) (6.0)\n",
            "Requirement already satisfied: regex!=2019.12.17 in /usr/local/lib/python3.10/dist-packages (from transformers) (2022.10.31)\n",
            "Requirement already satisfied: requests in /usr/local/lib/python3.10/dist-packages (from transformers) (2.27.1)\n",
            "Collecting tokenizers!=0.11.3,<0.14,>=0.11.1 (from transformers)\n",
            "  Downloading tokenizers-0.13.3-cp310-cp310-manylinux_2_17_x86_64.manylinux2014_x86_64.whl (7.8 MB)\n",
            "\u001b[2K     \u001b[90m━━━━━━━━━━━━━━━━━━━━━━━━━━━━━━━━━━━━━━━━\u001b[0m \u001b[32m7.8/7.8 MB\u001b[0m \u001b[31m81.8 MB/s\u001b[0m eta \u001b[36m0:00:00\u001b[0m\n",
            "\u001b[?25hRequirement already satisfied: tqdm>=4.27 in /usr/local/lib/python3.10/dist-packages (from transformers) (4.65.0)\n",
            "Requirement already satisfied: fsspec in /usr/local/lib/python3.10/dist-packages (from huggingface-hub<1.0,>=0.14.1->transformers) (2023.4.0)\n",
            "Requirement already satisfied: typing-extensions>=3.7.4.3 in /usr/local/lib/python3.10/dist-packages (from huggingface-hub<1.0,>=0.14.1->transformers) (4.5.0)\n",
            "Requirement already satisfied: urllib3<1.27,>=1.21.1 in /usr/local/lib/python3.10/dist-packages (from requests->transformers) (1.26.15)\n",
            "Requirement already satisfied: certifi>=2017.4.17 in /usr/local/lib/python3.10/dist-packages (from requests->transformers) (2022.12.7)\n",
            "Requirement already satisfied: charset-normalizer~=2.0.0 in /usr/local/lib/python3.10/dist-packages (from requests->transformers) (2.0.12)\n",
            "Requirement already satisfied: idna<4,>=2.5 in /usr/local/lib/python3.10/dist-packages (from requests->transformers) (3.4)\n",
            "Installing collected packages: tokenizers, huggingface-hub, transformers\n",
            "Successfully installed huggingface-hub-0.15.1 tokenizers-0.13.3 transformers-4.29.2\n"
          ]
        }
      ],
      "source": [
        "!pip install transformers"
      ]
    },
    {
      "cell_type": "code",
      "execution_count": 3,
      "metadata": {
        "id": "syKK5caaQXWP"
      },
      "outputs": [],
      "source": [
        "common_drive_path = \"/content/drive/MyDrive/AI_Project_14\""
      ]
    },
    {
      "cell_type": "code",
      "execution_count": 7,
      "metadata": {
        "colab": {
          "base_uri": "https://localhost:8080/",
          "height": 113,
          "referenced_widgets": [
            "385de06e142f409cbac8c0403edf5046",
            "69d7df88c7b240ba8b3f904ae21df09a",
            "4c7c2e8ce7e843229468b73d57ef37d1",
            "4be3c0626347417db7a877203ebb3d84",
            "24936085ac38451692d88acdf36b3cfb",
            "51623da4dd7e4d7a8dc3673edbab61a3",
            "25c5f1f909d8453e9efc8fbd2c01615b",
            "4b16633a050a4dfbb9efc77a324d1c6b",
            "faa33a700b1a424baa9980728ab7ce8e",
            "e404bd0529bb45d5a4ff23489893e9a9",
            "7cb9434257594b3faad03385d458e557",
            "6635af9703fa454ab9d82711f06c9f06",
            "75aeea1d68eb4baeac32875765d49519",
            "b139096030634c6b9d40ca2fc39cdd56",
            "11dfac9815454941aa33443f251732d3",
            "cda85d251e37408abc4fed458c483f0f",
            "e7fbb2b4bff14a1285ad52c79fd64757",
            "c232a4888a684ef3995dfad94b69a8ec",
            "509927168a744957a5346fc21d9c5f08",
            "ffb4156faa704d93b764163692119ccf",
            "1c737e2dacec403799604117d7b29e9b",
            "1c5465a6a34542c6af5258c6ea29b8e5",
            "a53940a70c7e4cad9b887d25b3b1b61a",
            "7a9ed8f3438e440b808d3373ee3cd381",
            "285c91c7272043a5bf924a22e2f93e01",
            "6466f5c1f00c4757b229d208ec478324",
            "fd00d1e3dfee44e1b96127b006eb9db4",
            "9c503b9df87a4266bb264bc8ddd0b498",
            "60fc995e7f804b92bd663ae8de9af9a0",
            "e514f0eb67eb4531ae938fe98fdd554c",
            "aa88d915dadc4f098bd13e1927d87297",
            "3da9570ae24c4afd8ab435ee40c0dfaa",
            "56cf012b19914e64a8f4ce824abea229"
          ]
        },
        "id": "sm6b3mh7PiUY",
        "outputId": "77d96129-8672-4253-d10b-92958bc2a44b"
      },
      "outputs": [
        {
          "output_type": "display_data",
          "data": {
            "text/plain": [
              "Downloading (…)olve/main/vocab.json:   0%|          | 0.00/899k [00:00<?, ?B/s]"
            ],
            "application/vnd.jupyter.widget-view+json": {
              "version_major": 2,
              "version_minor": 0,
              "model_id": "385de06e142f409cbac8c0403edf5046"
            }
          },
          "metadata": {}
        },
        {
          "output_type": "display_data",
          "data": {
            "text/plain": [
              "Downloading (…)olve/main/merges.txt:   0%|          | 0.00/456k [00:00<?, ?B/s]"
            ],
            "application/vnd.jupyter.widget-view+json": {
              "version_major": 2,
              "version_minor": 0,
              "model_id": "6635af9703fa454ab9d82711f06c9f06"
            }
          },
          "metadata": {}
        },
        {
          "output_type": "display_data",
          "data": {
            "text/plain": [
              "Downloading (…)lve/main/config.json:   0%|          | 0.00/481 [00:00<?, ?B/s]"
            ],
            "application/vnd.jupyter.widget-view+json": {
              "version_major": 2,
              "version_minor": 0,
              "model_id": "a53940a70c7e4cad9b887d25b3b1b61a"
            }
          },
          "metadata": {}
        }
      ],
      "source": [
        "import torch\n",
        "from transformers import RobertaTokenizer, RobertaForSequenceClassification\n",
        "import re\n",
        "\n",
        "tokenizer = RobertaTokenizer.from_pretrained('roberta-base')\n",
        "# Load your fine-tuned model\n",
        "saved_model_path = common_drive_path + '/saved_model_fold_3/final_model/'\n",
        "my_model = RobertaForSequenceClassification.from_pretrained(saved_model_path)\n",
        "\n",
        "def get_nsp_prob(sentence_1, sentence_2):\n",
        "    # 문장을 토큰화하고 인코딩합니다.\n",
        "    inputs = tokenizer.encode_plus(\n",
        "        sentence_1, \n",
        "        sentence_2, \n",
        "        add_special_tokens=True, \n",
        "        return_tensors='pt'\n",
        "    )\n",
        "\n",
        "    # 모델에 입력을 전달하고 출력을 가져옵니다.\n",
        "    outputs = my_model(\n",
        "        input_ids=inputs['input_ids'], \n",
        "        attention_mask=inputs['attention_mask']\n",
        "    )\n",
        "\n",
        "    # \"이어지는 문장\"에 대한 확률을 반환합니다.\n",
        "    logits = outputs.logits\n",
        "    nsp_prob = torch.softmax(logits, dim=1)\n",
        "    return nsp_prob[:, 1].item()"
      ]
    },
    {
      "cell_type": "code",
      "execution_count": 4,
      "metadata": {
        "id": "_1KpcDUsRJNq"
      },
      "outputs": [],
      "source": [
        "import os\n",
        "import numpy as np\n",
        "import pandas as pd"
      ]
    },
    {
      "cell_type": "code",
      "execution_count": 5,
      "metadata": {
        "id": "R9i0S0ukQykf"
      },
      "outputs": [],
      "source": [
        "# GOOD speech to text result\n",
        "path = common_drive_path + '/MP4_GOOD/text_results/'\n",
        "input_file_list = os.listdir(path)\n",
        "\n",
        "out_path = common_drive_path + '/NSP/GOOD/'"
      ]
    },
    {
      "cell_type": "code",
      "execution_count": null,
      "metadata": {
        "colab": {
          "base_uri": "https://localhost:8080/"
        },
        "id": "lFrFjZ51X889",
        "outputId": "0a49f1c1-fecd-4d0b-cd3f-dfce42ca56e8"
      },
      "outputs": [
        {
          "data": {
            "text/plain": [
              "['WillardWigan_2009G.wav.wav.txt',\n",
              " 'JosephNye_2010G.wav.wav.txt',\n",
              " 'JohnWooden_2001.wav.wav.txt',\n",
              " 'JohnLloyd_2009G.wav.wav.txt',\n",
              " 'JohnHodgman_2008.wav.wav.txt',\n",
              " 'JohnFrancis_2008.wav.wav.txt',\n",
              " 'JohnDoerr_2007.wav.wav.txt',\n",
              " 'ZainabSalbi_2010G.wav.wav.txt',\n",
              " 'YochaiBenkler_2005G.wav.wav.txt',\n",
              " 'WoodyNorris_2004.wav.wav.txt',\n",
              " 'WilliamUry_2010X.sph.wav.txt',\n",
              " 'LorettaNapoleoni_2009G.wav.wav.txt',\n",
              " 'LesleyHazleton_2010X.wav.wav.txt',\n",
              " 'KamalMeattle_2009U.wav.wav.txt',\n",
              " 'JuliaSweeney_2006.wav.wav.txt',\n",
              " 'JosephPine_2004.wav.wav.txt',\n",
              " 'MatthieuRicard_2004.wav.wav.txt',\n",
              " 'MarvinMinsky_2003.wav.wav.txt',\n",
              " 'MarkBittman_2007P.wav.wav.txt',\n",
              " 'MarcPachter_2008P.wav.wav.txt',\n",
              " 'PatrickAwuah_2007G.wav.wav.txt',\n",
              " 'NielsDiffrient_2002a.wav.wav.txt',\n",
              " 'NicMarks_2010G.wav.wav.txt',\n",
              " 'MenaTrott_2006.wav.wav.txt',\n",
              " 'RozSavage_2010Z.wav.wav.txt',\n",
              " 'PhilippeStarck_2007.wav.wav.txt',\n",
              " 'PeterReinhart_2008P.wav.wav.txt',\n",
              " 'PeterEigen_2009X.wav.wav.txt',\n",
              " 'PeterDonnelly_2005G.wav.wav.txt',\n",
              " 'StephenPetranek_2002.wav.wav.txt',\n",
              " 'SherylWuDunn_2010G.wav.wav.txt',\n",
              " 'SherylSandberg_2010W.wav.wav.txt',\n",
              " 'SherwinNuland_2003.wav.wav.txt',\n",
              " 'SasaVucinic_2005G.wav.wav.txt',\n",
              " 'TonyPorter_2010W.wav.wav.txt',\n",
              " 'TomHoney_2005.wav.wav.txt',\n",
              " 'TimBernersLee_2010U.wav.wav.txt',\n",
              " 'ThomasGoetz_2010P.wav.wav.txt',\n",
              " 'SuheirHammad_2010W.wav.wav.txt',\n",
              " 'SugataMitra_2010G.wav.wav.txt',\n",
              " 'VanJones_2010X.wav.wav.txt',\n",
              " '0004.txt',\n",
              " '0007.txt',\n",
              " '0030.txt',\n",
              " '0003.txt',\n",
              " '0001.txt',\n",
              " '0031.txt',\n",
              " '0039.txt',\n",
              " '0044.txt',\n",
              " '0022.txt',\n",
              " '0034.txt',\n",
              " '0029.txt',\n",
              " '0040.txt',\n",
              " '0015.txt',\n",
              " '0011.txt',\n",
              " '0014.txt',\n",
              " '0019.txt',\n",
              " '0043.txt',\n",
              " '0005.txt',\n",
              " '0021.txt',\n",
              " '0017.txt',\n",
              " '0018.txt',\n",
              " '0033.txt',\n",
              " '0024.txt',\n",
              " '0009.txt',\n",
              " '0020.txt',\n",
              " '0028.txt',\n",
              " '0012.txt',\n",
              " '0013.txt',\n",
              " '0002.txt',\n",
              " '0023.txt',\n",
              " '0042.txt',\n",
              " '0008.txt',\n",
              " '0026.txt',\n",
              " '0006.txt',\n",
              " '0016.txt',\n",
              " '0041.txt',\n",
              " '0000.txt',\n",
              " '0010.txt',\n",
              " '0027.txt',\n",
              " '0045.txt',\n",
              " '0035.txt',\n",
              " '0025.txt',\n",
              " '0036.txt',\n",
              " '0032.txt',\n",
              " '0037.txt',\n",
              " '0038.txt',\n",
              " 'LauraTrice_2008.wav.wav.txt',\n",
              " 'MarkRoth_2010.wav.wav.txt']"
            ]
          },
          "execution_count": 8,
          "metadata": {},
          "output_type": "execute_result"
        }
      ],
      "source": [
        "input_file_list"
      ]
    },
    {
      "cell_type": "code",
      "execution_count": null,
      "metadata": {
        "id": "8XAH6TsjRfqE"
      },
      "outputs": [],
      "source": [
        "for i, input_file in enumerate(input_file_list):\n",
        "  # 입력 파일에서 문장 쌍을 읽어들입니다.\n",
        "  with open(path + input_file, 'r') as f:\n",
        "       lines = f.readlines()\n",
        "  for i in range(0, len(lines), 1):\n",
        "    lines[i] = lines[i][:-1] + \" \"\n",
        "    # print(lines[i])\n",
        "  break\n",
        "  print(\" \".join(lines))\n",
        "  \n",
        "  #txt = \"I woke up in the middle of the night with a sound of heavy explosion. it was deep at night I do not remember what time it was I just remembered the sound was so heavy and so very shocking. everything in my room was shaking my heart's my windows my beds everything. I looked out the windows. and I sew a full half circle of explosion. I thought it was just like the movies but the movie did not convey them in the powerful image that I was seeing full of bright red and orange and gray and chocolate explosion and I kept on Staring at its until it disappeared. I went back to my vet. and I prayed. and I secretly thank God. that's that missile did not land on my family's home. that it did not kill my family that night. 30 years had passed and I still feel guilty about that prayer. for the next day I learned that that missile landed on my brother's friend's home. I've killed him and his father.\"\n",
        "  # lines[0] = lines[0][:-1] + \" \"\n",
        "  # for i, item in enumerate(lines):\n",
        "  #   if (i != 0):\n",
        "  #     lines[0] = lines[0] + lines[i][-1] + \" \"\n",
        "  # print(lines[])\n",
        "  # sentences = re.split('[.!?]', lines[0].strip())\n",
        "  # nsp = []\n",
        "  # for i, line in enumerate(sentences):\n",
        "  #   try:\n",
        "  #     sentence_1 = sentences[i].strip()\n",
        "  #     sentence_2 = sentences[i+1].strip()\n",
        "  #     nsp_prob = get_nsp_prob(sentence_1, sentence_2)\n",
        "  #     nsp.append(nsp_prob)\n",
        "  #     print(nsp_prob)\n",
        "  #   except:\n",
        "  #     pass\n",
        "\n",
        "  # output = np.array(nsp)\n",
        "  # np.save(out_path + input_file[:-4] + '.npy', output)\n",
        "  # break"
      ]
    },
    {
      "cell_type": "code",
      "execution_count": null,
      "metadata": {
        "colab": {
          "background_save": true
        },
        "id": "HtUGdRRsZiM3"
      },
      "outputs": [],
      "source": [
        "# GOOD transcript NSP\n",
        "path = '/content/drive/MyDrive/AI_Project_14/MP4_GOOD/text_results/'\n",
        "text_list = os.listdir(path)\n",
        "for input_file in text_list:\n",
        "  # 입력 파일에서 문장 쌍을 읽어들입니다.\n",
        "  with open(path + input_file, 'r') as f:\n",
        "      lines = f.readlines()\n",
        "  corpus = \"\".join(lines)\n",
        "  sentences = corpus.split(\".\")\n",
        "\n",
        "  # 출력 파일을 생성합니다.\n",
        "  output = []\n",
        "\n",
        "\n",
        "# 각 문장 쌍에 대해 NSP를 계산하고 출력 파일에 기록합니다.\n",
        "  for i, sentence in enumerate(sentences):\n",
        "      # 문장을 마침표나 느낌표로 구분해서 두 개의 문장으로 나눕니다.\n",
        "      try:\n",
        "          # sentences = re.split('[.!?]', sentence.strip())\n",
        "          sentence_1 = sentences[i].strip()\n",
        "          sentence_2 = sentences[i+1].strip()\n",
        "      except:\n",
        "          pass\n",
        "\n",
        "      # NSP를 계산하고 출력 파일에 기록합니다.\n",
        "      nsp_prob = get_nsp_prob(sentence_1, sentence_2)\n",
        "      output.append(nsp_prob)\n",
        "  result = np.array(output)\n",
        "  if \"wav\" in input_file:\n",
        "    np.save(\"/content/drive/MyDrive/AI_Project_14/NSP/GOOD/\" + input_file[:-12], result)\n",
        "  else:\n",
        "    np.save(\"/content/drive/MyDrive/AI_Project_14/NSP/GOOD/\" + input_file[:-4], result)"
      ]
    },
    {
      "cell_type": "code",
      "execution_count": null,
      "metadata": {
        "colab": {
          "background_save": true,
          "base_uri": "https://localhost:8080/"
        },
        "id": "uMETDzumnECz",
        "outputId": "7ecbe9f8-2cf5-48b8-d59c-ed09e2be7783"
      },
      "outputs": [
        {
          "data": {
            "text/plain": [
              "Index(['audio_name', 'script', 'label', 'speech_to_text', 'cos_sim',\n",
              "       'cos_sim_list', 'cos_vec'],\n",
              "      dtype='object')"
            ]
          },
          "execution_count": 10,
          "metadata": {},
          "output_type": "execute_result"
        }
      ],
      "source": [
        "# BAD transcirpt NSP\n",
        "bad_df = pd.read_csv(\"/content/drive/MyDrive/AI_Project_14/speechtotext/bad_audio_info_sim.csv\", index_col = 0)\n",
        "bad_df.columns"
      ]
    },
    {
      "cell_type": "code",
      "execution_count": null,
      "metadata": {
        "colab": {
          "base_uri": "https://localhost:8080/"
        },
        "id": "fnCx4PxeqEAx",
        "outputId": "0fac4a8f-1352-4ed6-c238-bc33b6f070c0"
      },
      "outputs": [
        {
          "data": {
            "text/plain": [
              "Unnamed: 0\n",
              "0     03bSnISJMiM.wav\n",
              "1     0h-zjBukYpk.wav\n",
              "2     1DmNV9C1hbY.wav\n",
              "3     1iG0909rllw.wav\n",
              "4     2WGyTLYerpo.wav\n",
              "           ...       \n",
              "88    vyB00TXsimI.wav\n",
              "89    wMbj6ajWbic.wav\n",
              "90    yDtzw_Y-7RU.wav\n",
              "91    yvsjCA6Y5Fc.wav\n",
              "92    zhpQhgha_KU.wav\n",
              "Name: audio_name, Length: 93, dtype: object"
            ]
          },
          "execution_count": 29,
          "metadata": {},
          "output_type": "execute_result"
        }
      ],
      "source": [
        "bad_df['audio_name']"
      ]
    },
    {
      "cell_type": "code",
      "execution_count": null,
      "metadata": {
        "colab": {
          "base_uri": "https://localhost:8080/"
        },
        "id": "Y-qu_BVTnr6H",
        "outputId": "4434eb6c-3e8f-41c0-806b-7f3e6bf88095"
      },
      "outputs": [
        {
          "name": "stdout",
          "output_type": "stream",
          "text": [
            "True\n"
          ]
        }
      ],
      "source": [
        "if \".\" in bad_df['speech_to_text'].loc[0]:\n",
        "  print(True)"
      ]
    },
    {
      "cell_type": "code",
      "execution_count": null,
      "metadata": {
        "id": "dMq64aL803Xr"
      },
      "outputs": [],
      "source": [
        "for i, corpus in enumerate(bad_df['speech_to_text']):\n",
        "  sentences = corpus.split(\".\")\n",
        "  output = []\n",
        "  try:\n",
        "    # sentences = re.split('[.!?]', sentence.strip())\n",
        "    sentence_1 = sentences[i].strip()\n",
        "    sentence_2 = sentences[i+1].strip()\n",
        "  except:\n",
        "    pass\n",
        "\n",
        "  # NSP를 계산하고 출력 파일에 기록합니다.\n",
        "  nsp_prob = get_nsp_prob(sentence_1, sentence_2)\n",
        "  output.append(nsp_prob)\n",
        "  result = np.array(output)\n",
        "  np.save(\"/content/drive/MyDrive/AI_Project_14/NSP/BAD/\" + bad_df['audio_name'].iloc[i][:-4], result)"
      ]
    },
    {
      "cell_type": "markdown",
      "source": [
        "# OBAMA Test Case"
      ],
      "metadata": {
        "id": "zugjyeLd8Lga"
      }
    },
    {
      "cell_type": "code",
      "source": [
        "# obama_script\n",
        "path = \"/content/drive/MyDrive/AI_Project_14/obama/President Obama Makes Historic Speech to America's Students  -  English subtitles.txt\"\n",
        "# 입력 파일에서 문장 쌍을 읽어들입니다.\n",
        "with open(path, 'r') as f:\n",
        "    lines = f.readlines()\n",
        "corpus = \"\".join(lines)\n",
        "sentences = corpus.split(\".\")\n",
        "\n",
        "# 출력 파일을 생성합니다.\n",
        "output = []\n",
        "\n",
        "\n",
        "# 각 문장 쌍에 대해 NSP를 계산하고 출력 파일에 기록합니다.\n",
        "for i, sentence in enumerate(sentences):\n",
        "    # 문장을 마침표나 느낌표로 구분해서 두 개의 문장으로 나눕니다.\n",
        "    try:\n",
        "        # sentences = re.split('[.!?]', sentence.strip())\n",
        "        sentence_1 = sentences[i].strip()\n",
        "        sentence_2 = sentences[i+1].strip()\n",
        "    except:\n",
        "        pass\n",
        "\n",
        "    # NSP를 계산하고 출력 파일에 기록합니다.\n",
        "    nsp_prob = get_nsp_prob(sentence_1, sentence_2)\n",
        "    output.append(nsp_prob)\n",
        "result = np.array(output)\n",
        "\n"
      ],
      "metadata": {
        "id": "kagQ3N178LVo"
      },
      "execution_count": null,
      "outputs": []
    },
    {
      "cell_type": "code",
      "source": [
        "np.save(\"/content/drive/MyDrive/AI_Project_14/obama/nsp/obama.npy\", result)"
      ],
      "metadata": {
        "id": "BgvZiY---Sxf"
      },
      "execution_count": 9,
      "outputs": []
    },
    {
      "cell_type": "code",
      "source": [
        "# GOOD transcript NSP\n",
        "path = '/content/drive/MyDrive/AI_Project_14/MP4_GOOD/text_results/'\n",
        "text_list = os.listdir(path)\n",
        "for input_file in text_list:\n",
        "  # 입력 파일에서 문장 쌍을 읽어들입니다.\n",
        "  with open(path + input_file, 'r') as f:\n",
        "      lines = f.readlines()\n",
        "  corpus = \"\".join(lines)\n",
        "  sentences = corpus.split(\".\")\n",
        "\n",
        "  # 출력 파일을 생성합니다.\n",
        "  output = []\n",
        "\n",
        "\n",
        "# 각 문장 쌍에 대해 NSP를 계산하고 출력 파일에 기록합니다.\n",
        "  for i, sentence in enumerate(sentences):\n",
        "      # 문장을 마침표나 느낌표로 구분해서 두 개의 문장으로 나눕니다.\n",
        "      try:\n",
        "          # sentences = re.split('[.!?]', sentence.strip())\n",
        "          sentence_1 = sentences[i].strip()\n",
        "          sentence_2 = sentences[i+1].strip()\n",
        "      except:\n",
        "          pass\n",
        "\n",
        "      # NSP를 계산하고 출력 파일에 기록합니다.\n",
        "      nsp_prob = get_nsp_prob(sentence_1, sentence_2)\n",
        "      output.append(nsp_prob)\n",
        "  result = np.array(output)\n",
        "  if \"wav\" in input_file:\n",
        "    np.save(\"/content/drive/MyDrive/AI_Project_14/NSP/GOOD/\" + input_file[:-12], result)\n",
        "  else:\n",
        "    np.save(\"/content/drive/MyDrive/AI_Project_14/NSP/GOOD/\" + input_file[:-4], result)"
      ],
      "metadata": {
        "id": "WguxHjnG8TTu"
      },
      "execution_count": null,
      "outputs": []
    }
  ],
  "metadata": {
    "colab": {
      "provenance": [],
      "authorship_tag": "ABX9TyOyMHlJMeQTtHdcHDpYwGbG",
      "include_colab_link": true
    },
    "kernelspec": {
      "display_name": "Python 3",
      "name": "python3"
    },
    "language_info": {
      "name": "python"
    },
    "widgets": {
      "application/vnd.jupyter.widget-state+json": {
        "385de06e142f409cbac8c0403edf5046": {
          "model_module": "@jupyter-widgets/controls",
          "model_name": "HBoxModel",
          "model_module_version": "1.5.0",
          "state": {
            "_dom_classes": [],
            "_model_module": "@jupyter-widgets/controls",
            "_model_module_version": "1.5.0",
            "_model_name": "HBoxModel",
            "_view_count": null,
            "_view_module": "@jupyter-widgets/controls",
            "_view_module_version": "1.5.0",
            "_view_name": "HBoxView",
            "box_style": "",
            "children": [
              "IPY_MODEL_69d7df88c7b240ba8b3f904ae21df09a",
              "IPY_MODEL_4c7c2e8ce7e843229468b73d57ef37d1",
              "IPY_MODEL_4be3c0626347417db7a877203ebb3d84"
            ],
            "layout": "IPY_MODEL_24936085ac38451692d88acdf36b3cfb"
          }
        },
        "69d7df88c7b240ba8b3f904ae21df09a": {
          "model_module": "@jupyter-widgets/controls",
          "model_name": "HTMLModel",
          "model_module_version": "1.5.0",
          "state": {
            "_dom_classes": [],
            "_model_module": "@jupyter-widgets/controls",
            "_model_module_version": "1.5.0",
            "_model_name": "HTMLModel",
            "_view_count": null,
            "_view_module": "@jupyter-widgets/controls",
            "_view_module_version": "1.5.0",
            "_view_name": "HTMLView",
            "description": "",
            "description_tooltip": null,
            "layout": "IPY_MODEL_51623da4dd7e4d7a8dc3673edbab61a3",
            "placeholder": "​",
            "style": "IPY_MODEL_25c5f1f909d8453e9efc8fbd2c01615b",
            "value": "Downloading (…)olve/main/vocab.json: 100%"
          }
        },
        "4c7c2e8ce7e843229468b73d57ef37d1": {
          "model_module": "@jupyter-widgets/controls",
          "model_name": "FloatProgressModel",
          "model_module_version": "1.5.0",
          "state": {
            "_dom_classes": [],
            "_model_module": "@jupyter-widgets/controls",
            "_model_module_version": "1.5.0",
            "_model_name": "FloatProgressModel",
            "_view_count": null,
            "_view_module": "@jupyter-widgets/controls",
            "_view_module_version": "1.5.0",
            "_view_name": "ProgressView",
            "bar_style": "success",
            "description": "",
            "description_tooltip": null,
            "layout": "IPY_MODEL_4b16633a050a4dfbb9efc77a324d1c6b",
            "max": 898823,
            "min": 0,
            "orientation": "horizontal",
            "style": "IPY_MODEL_faa33a700b1a424baa9980728ab7ce8e",
            "value": 898823
          }
        },
        "4be3c0626347417db7a877203ebb3d84": {
          "model_module": "@jupyter-widgets/controls",
          "model_name": "HTMLModel",
          "model_module_version": "1.5.0",
          "state": {
            "_dom_classes": [],
            "_model_module": "@jupyter-widgets/controls",
            "_model_module_version": "1.5.0",
            "_model_name": "HTMLModel",
            "_view_count": null,
            "_view_module": "@jupyter-widgets/controls",
            "_view_module_version": "1.5.0",
            "_view_name": "HTMLView",
            "description": "",
            "description_tooltip": null,
            "layout": "IPY_MODEL_e404bd0529bb45d5a4ff23489893e9a9",
            "placeholder": "​",
            "style": "IPY_MODEL_7cb9434257594b3faad03385d458e557",
            "value": " 899k/899k [00:00&lt;00:00, 1.32MB/s]"
          }
        },
        "24936085ac38451692d88acdf36b3cfb": {
          "model_module": "@jupyter-widgets/base",
          "model_name": "LayoutModel",
          "model_module_version": "1.2.0",
          "state": {
            "_model_module": "@jupyter-widgets/base",
            "_model_module_version": "1.2.0",
            "_model_name": "LayoutModel",
            "_view_count": null,
            "_view_module": "@jupyter-widgets/base",
            "_view_module_version": "1.2.0",
            "_view_name": "LayoutView",
            "align_content": null,
            "align_items": null,
            "align_self": null,
            "border": null,
            "bottom": null,
            "display": null,
            "flex": null,
            "flex_flow": null,
            "grid_area": null,
            "grid_auto_columns": null,
            "grid_auto_flow": null,
            "grid_auto_rows": null,
            "grid_column": null,
            "grid_gap": null,
            "grid_row": null,
            "grid_template_areas": null,
            "grid_template_columns": null,
            "grid_template_rows": null,
            "height": null,
            "justify_content": null,
            "justify_items": null,
            "left": null,
            "margin": null,
            "max_height": null,
            "max_width": null,
            "min_height": null,
            "min_width": null,
            "object_fit": null,
            "object_position": null,
            "order": null,
            "overflow": null,
            "overflow_x": null,
            "overflow_y": null,
            "padding": null,
            "right": null,
            "top": null,
            "visibility": null,
            "width": null
          }
        },
        "51623da4dd7e4d7a8dc3673edbab61a3": {
          "model_module": "@jupyter-widgets/base",
          "model_name": "LayoutModel",
          "model_module_version": "1.2.0",
          "state": {
            "_model_module": "@jupyter-widgets/base",
            "_model_module_version": "1.2.0",
            "_model_name": "LayoutModel",
            "_view_count": null,
            "_view_module": "@jupyter-widgets/base",
            "_view_module_version": "1.2.0",
            "_view_name": "LayoutView",
            "align_content": null,
            "align_items": null,
            "align_self": null,
            "border": null,
            "bottom": null,
            "display": null,
            "flex": null,
            "flex_flow": null,
            "grid_area": null,
            "grid_auto_columns": null,
            "grid_auto_flow": null,
            "grid_auto_rows": null,
            "grid_column": null,
            "grid_gap": null,
            "grid_row": null,
            "grid_template_areas": null,
            "grid_template_columns": null,
            "grid_template_rows": null,
            "height": null,
            "justify_content": null,
            "justify_items": null,
            "left": null,
            "margin": null,
            "max_height": null,
            "max_width": null,
            "min_height": null,
            "min_width": null,
            "object_fit": null,
            "object_position": null,
            "order": null,
            "overflow": null,
            "overflow_x": null,
            "overflow_y": null,
            "padding": null,
            "right": null,
            "top": null,
            "visibility": null,
            "width": null
          }
        },
        "25c5f1f909d8453e9efc8fbd2c01615b": {
          "model_module": "@jupyter-widgets/controls",
          "model_name": "DescriptionStyleModel",
          "model_module_version": "1.5.0",
          "state": {
            "_model_module": "@jupyter-widgets/controls",
            "_model_module_version": "1.5.0",
            "_model_name": "DescriptionStyleModel",
            "_view_count": null,
            "_view_module": "@jupyter-widgets/base",
            "_view_module_version": "1.2.0",
            "_view_name": "StyleView",
            "description_width": ""
          }
        },
        "4b16633a050a4dfbb9efc77a324d1c6b": {
          "model_module": "@jupyter-widgets/base",
          "model_name": "LayoutModel",
          "model_module_version": "1.2.0",
          "state": {
            "_model_module": "@jupyter-widgets/base",
            "_model_module_version": "1.2.0",
            "_model_name": "LayoutModel",
            "_view_count": null,
            "_view_module": "@jupyter-widgets/base",
            "_view_module_version": "1.2.0",
            "_view_name": "LayoutView",
            "align_content": null,
            "align_items": null,
            "align_self": null,
            "border": null,
            "bottom": null,
            "display": null,
            "flex": null,
            "flex_flow": null,
            "grid_area": null,
            "grid_auto_columns": null,
            "grid_auto_flow": null,
            "grid_auto_rows": null,
            "grid_column": null,
            "grid_gap": null,
            "grid_row": null,
            "grid_template_areas": null,
            "grid_template_columns": null,
            "grid_template_rows": null,
            "height": null,
            "justify_content": null,
            "justify_items": null,
            "left": null,
            "margin": null,
            "max_height": null,
            "max_width": null,
            "min_height": null,
            "min_width": null,
            "object_fit": null,
            "object_position": null,
            "order": null,
            "overflow": null,
            "overflow_x": null,
            "overflow_y": null,
            "padding": null,
            "right": null,
            "top": null,
            "visibility": null,
            "width": null
          }
        },
        "faa33a700b1a424baa9980728ab7ce8e": {
          "model_module": "@jupyter-widgets/controls",
          "model_name": "ProgressStyleModel",
          "model_module_version": "1.5.0",
          "state": {
            "_model_module": "@jupyter-widgets/controls",
            "_model_module_version": "1.5.0",
            "_model_name": "ProgressStyleModel",
            "_view_count": null,
            "_view_module": "@jupyter-widgets/base",
            "_view_module_version": "1.2.0",
            "_view_name": "StyleView",
            "bar_color": null,
            "description_width": ""
          }
        },
        "e404bd0529bb45d5a4ff23489893e9a9": {
          "model_module": "@jupyter-widgets/base",
          "model_name": "LayoutModel",
          "model_module_version": "1.2.0",
          "state": {
            "_model_module": "@jupyter-widgets/base",
            "_model_module_version": "1.2.0",
            "_model_name": "LayoutModel",
            "_view_count": null,
            "_view_module": "@jupyter-widgets/base",
            "_view_module_version": "1.2.0",
            "_view_name": "LayoutView",
            "align_content": null,
            "align_items": null,
            "align_self": null,
            "border": null,
            "bottom": null,
            "display": null,
            "flex": null,
            "flex_flow": null,
            "grid_area": null,
            "grid_auto_columns": null,
            "grid_auto_flow": null,
            "grid_auto_rows": null,
            "grid_column": null,
            "grid_gap": null,
            "grid_row": null,
            "grid_template_areas": null,
            "grid_template_columns": null,
            "grid_template_rows": null,
            "height": null,
            "justify_content": null,
            "justify_items": null,
            "left": null,
            "margin": null,
            "max_height": null,
            "max_width": null,
            "min_height": null,
            "min_width": null,
            "object_fit": null,
            "object_position": null,
            "order": null,
            "overflow": null,
            "overflow_x": null,
            "overflow_y": null,
            "padding": null,
            "right": null,
            "top": null,
            "visibility": null,
            "width": null
          }
        },
        "7cb9434257594b3faad03385d458e557": {
          "model_module": "@jupyter-widgets/controls",
          "model_name": "DescriptionStyleModel",
          "model_module_version": "1.5.0",
          "state": {
            "_model_module": "@jupyter-widgets/controls",
            "_model_module_version": "1.5.0",
            "_model_name": "DescriptionStyleModel",
            "_view_count": null,
            "_view_module": "@jupyter-widgets/base",
            "_view_module_version": "1.2.0",
            "_view_name": "StyleView",
            "description_width": ""
          }
        },
        "6635af9703fa454ab9d82711f06c9f06": {
          "model_module": "@jupyter-widgets/controls",
          "model_name": "HBoxModel",
          "model_module_version": "1.5.0",
          "state": {
            "_dom_classes": [],
            "_model_module": "@jupyter-widgets/controls",
            "_model_module_version": "1.5.0",
            "_model_name": "HBoxModel",
            "_view_count": null,
            "_view_module": "@jupyter-widgets/controls",
            "_view_module_version": "1.5.0",
            "_view_name": "HBoxView",
            "box_style": "",
            "children": [
              "IPY_MODEL_75aeea1d68eb4baeac32875765d49519",
              "IPY_MODEL_b139096030634c6b9d40ca2fc39cdd56",
              "IPY_MODEL_11dfac9815454941aa33443f251732d3"
            ],
            "layout": "IPY_MODEL_cda85d251e37408abc4fed458c483f0f"
          }
        },
        "75aeea1d68eb4baeac32875765d49519": {
          "model_module": "@jupyter-widgets/controls",
          "model_name": "HTMLModel",
          "model_module_version": "1.5.0",
          "state": {
            "_dom_classes": [],
            "_model_module": "@jupyter-widgets/controls",
            "_model_module_version": "1.5.0",
            "_model_name": "HTMLModel",
            "_view_count": null,
            "_view_module": "@jupyter-widgets/controls",
            "_view_module_version": "1.5.0",
            "_view_name": "HTMLView",
            "description": "",
            "description_tooltip": null,
            "layout": "IPY_MODEL_e7fbb2b4bff14a1285ad52c79fd64757",
            "placeholder": "​",
            "style": "IPY_MODEL_c232a4888a684ef3995dfad94b69a8ec",
            "value": "Downloading (…)olve/main/merges.txt: 100%"
          }
        },
        "b139096030634c6b9d40ca2fc39cdd56": {
          "model_module": "@jupyter-widgets/controls",
          "model_name": "FloatProgressModel",
          "model_module_version": "1.5.0",
          "state": {
            "_dom_classes": [],
            "_model_module": "@jupyter-widgets/controls",
            "_model_module_version": "1.5.0",
            "_model_name": "FloatProgressModel",
            "_view_count": null,
            "_view_module": "@jupyter-widgets/controls",
            "_view_module_version": "1.5.0",
            "_view_name": "ProgressView",
            "bar_style": "success",
            "description": "",
            "description_tooltip": null,
            "layout": "IPY_MODEL_509927168a744957a5346fc21d9c5f08",
            "max": 456318,
            "min": 0,
            "orientation": "horizontal",
            "style": "IPY_MODEL_ffb4156faa704d93b764163692119ccf",
            "value": 456318
          }
        },
        "11dfac9815454941aa33443f251732d3": {
          "model_module": "@jupyter-widgets/controls",
          "model_name": "HTMLModel",
          "model_module_version": "1.5.0",
          "state": {
            "_dom_classes": [],
            "_model_module": "@jupyter-widgets/controls",
            "_model_module_version": "1.5.0",
            "_model_name": "HTMLModel",
            "_view_count": null,
            "_view_module": "@jupyter-widgets/controls",
            "_view_module_version": "1.5.0",
            "_view_name": "HTMLView",
            "description": "",
            "description_tooltip": null,
            "layout": "IPY_MODEL_1c737e2dacec403799604117d7b29e9b",
            "placeholder": "​",
            "style": "IPY_MODEL_1c5465a6a34542c6af5258c6ea29b8e5",
            "value": " 456k/456k [00:00&lt;00:00, 885kB/s]"
          }
        },
        "cda85d251e37408abc4fed458c483f0f": {
          "model_module": "@jupyter-widgets/base",
          "model_name": "LayoutModel",
          "model_module_version": "1.2.0",
          "state": {
            "_model_module": "@jupyter-widgets/base",
            "_model_module_version": "1.2.0",
            "_model_name": "LayoutModel",
            "_view_count": null,
            "_view_module": "@jupyter-widgets/base",
            "_view_module_version": "1.2.0",
            "_view_name": "LayoutView",
            "align_content": null,
            "align_items": null,
            "align_self": null,
            "border": null,
            "bottom": null,
            "display": null,
            "flex": null,
            "flex_flow": null,
            "grid_area": null,
            "grid_auto_columns": null,
            "grid_auto_flow": null,
            "grid_auto_rows": null,
            "grid_column": null,
            "grid_gap": null,
            "grid_row": null,
            "grid_template_areas": null,
            "grid_template_columns": null,
            "grid_template_rows": null,
            "height": null,
            "justify_content": null,
            "justify_items": null,
            "left": null,
            "margin": null,
            "max_height": null,
            "max_width": null,
            "min_height": null,
            "min_width": null,
            "object_fit": null,
            "object_position": null,
            "order": null,
            "overflow": null,
            "overflow_x": null,
            "overflow_y": null,
            "padding": null,
            "right": null,
            "top": null,
            "visibility": null,
            "width": null
          }
        },
        "e7fbb2b4bff14a1285ad52c79fd64757": {
          "model_module": "@jupyter-widgets/base",
          "model_name": "LayoutModel",
          "model_module_version": "1.2.0",
          "state": {
            "_model_module": "@jupyter-widgets/base",
            "_model_module_version": "1.2.0",
            "_model_name": "LayoutModel",
            "_view_count": null,
            "_view_module": "@jupyter-widgets/base",
            "_view_module_version": "1.2.0",
            "_view_name": "LayoutView",
            "align_content": null,
            "align_items": null,
            "align_self": null,
            "border": null,
            "bottom": null,
            "display": null,
            "flex": null,
            "flex_flow": null,
            "grid_area": null,
            "grid_auto_columns": null,
            "grid_auto_flow": null,
            "grid_auto_rows": null,
            "grid_column": null,
            "grid_gap": null,
            "grid_row": null,
            "grid_template_areas": null,
            "grid_template_columns": null,
            "grid_template_rows": null,
            "height": null,
            "justify_content": null,
            "justify_items": null,
            "left": null,
            "margin": null,
            "max_height": null,
            "max_width": null,
            "min_height": null,
            "min_width": null,
            "object_fit": null,
            "object_position": null,
            "order": null,
            "overflow": null,
            "overflow_x": null,
            "overflow_y": null,
            "padding": null,
            "right": null,
            "top": null,
            "visibility": null,
            "width": null
          }
        },
        "c232a4888a684ef3995dfad94b69a8ec": {
          "model_module": "@jupyter-widgets/controls",
          "model_name": "DescriptionStyleModel",
          "model_module_version": "1.5.0",
          "state": {
            "_model_module": "@jupyter-widgets/controls",
            "_model_module_version": "1.5.0",
            "_model_name": "DescriptionStyleModel",
            "_view_count": null,
            "_view_module": "@jupyter-widgets/base",
            "_view_module_version": "1.2.0",
            "_view_name": "StyleView",
            "description_width": ""
          }
        },
        "509927168a744957a5346fc21d9c5f08": {
          "model_module": "@jupyter-widgets/base",
          "model_name": "LayoutModel",
          "model_module_version": "1.2.0",
          "state": {
            "_model_module": "@jupyter-widgets/base",
            "_model_module_version": "1.2.0",
            "_model_name": "LayoutModel",
            "_view_count": null,
            "_view_module": "@jupyter-widgets/base",
            "_view_module_version": "1.2.0",
            "_view_name": "LayoutView",
            "align_content": null,
            "align_items": null,
            "align_self": null,
            "border": null,
            "bottom": null,
            "display": null,
            "flex": null,
            "flex_flow": null,
            "grid_area": null,
            "grid_auto_columns": null,
            "grid_auto_flow": null,
            "grid_auto_rows": null,
            "grid_column": null,
            "grid_gap": null,
            "grid_row": null,
            "grid_template_areas": null,
            "grid_template_columns": null,
            "grid_template_rows": null,
            "height": null,
            "justify_content": null,
            "justify_items": null,
            "left": null,
            "margin": null,
            "max_height": null,
            "max_width": null,
            "min_height": null,
            "min_width": null,
            "object_fit": null,
            "object_position": null,
            "order": null,
            "overflow": null,
            "overflow_x": null,
            "overflow_y": null,
            "padding": null,
            "right": null,
            "top": null,
            "visibility": null,
            "width": null
          }
        },
        "ffb4156faa704d93b764163692119ccf": {
          "model_module": "@jupyter-widgets/controls",
          "model_name": "ProgressStyleModel",
          "model_module_version": "1.5.0",
          "state": {
            "_model_module": "@jupyter-widgets/controls",
            "_model_module_version": "1.5.0",
            "_model_name": "ProgressStyleModel",
            "_view_count": null,
            "_view_module": "@jupyter-widgets/base",
            "_view_module_version": "1.2.0",
            "_view_name": "StyleView",
            "bar_color": null,
            "description_width": ""
          }
        },
        "1c737e2dacec403799604117d7b29e9b": {
          "model_module": "@jupyter-widgets/base",
          "model_name": "LayoutModel",
          "model_module_version": "1.2.0",
          "state": {
            "_model_module": "@jupyter-widgets/base",
            "_model_module_version": "1.2.0",
            "_model_name": "LayoutModel",
            "_view_count": null,
            "_view_module": "@jupyter-widgets/base",
            "_view_module_version": "1.2.0",
            "_view_name": "LayoutView",
            "align_content": null,
            "align_items": null,
            "align_self": null,
            "border": null,
            "bottom": null,
            "display": null,
            "flex": null,
            "flex_flow": null,
            "grid_area": null,
            "grid_auto_columns": null,
            "grid_auto_flow": null,
            "grid_auto_rows": null,
            "grid_column": null,
            "grid_gap": null,
            "grid_row": null,
            "grid_template_areas": null,
            "grid_template_columns": null,
            "grid_template_rows": null,
            "height": null,
            "justify_content": null,
            "justify_items": null,
            "left": null,
            "margin": null,
            "max_height": null,
            "max_width": null,
            "min_height": null,
            "min_width": null,
            "object_fit": null,
            "object_position": null,
            "order": null,
            "overflow": null,
            "overflow_x": null,
            "overflow_y": null,
            "padding": null,
            "right": null,
            "top": null,
            "visibility": null,
            "width": null
          }
        },
        "1c5465a6a34542c6af5258c6ea29b8e5": {
          "model_module": "@jupyter-widgets/controls",
          "model_name": "DescriptionStyleModel",
          "model_module_version": "1.5.0",
          "state": {
            "_model_module": "@jupyter-widgets/controls",
            "_model_module_version": "1.5.0",
            "_model_name": "DescriptionStyleModel",
            "_view_count": null,
            "_view_module": "@jupyter-widgets/base",
            "_view_module_version": "1.2.0",
            "_view_name": "StyleView",
            "description_width": ""
          }
        },
        "a53940a70c7e4cad9b887d25b3b1b61a": {
          "model_module": "@jupyter-widgets/controls",
          "model_name": "HBoxModel",
          "model_module_version": "1.5.0",
          "state": {
            "_dom_classes": [],
            "_model_module": "@jupyter-widgets/controls",
            "_model_module_version": "1.5.0",
            "_model_name": "HBoxModel",
            "_view_count": null,
            "_view_module": "@jupyter-widgets/controls",
            "_view_module_version": "1.5.0",
            "_view_name": "HBoxView",
            "box_style": "",
            "children": [
              "IPY_MODEL_7a9ed8f3438e440b808d3373ee3cd381",
              "IPY_MODEL_285c91c7272043a5bf924a22e2f93e01",
              "IPY_MODEL_6466f5c1f00c4757b229d208ec478324"
            ],
            "layout": "IPY_MODEL_fd00d1e3dfee44e1b96127b006eb9db4"
          }
        },
        "7a9ed8f3438e440b808d3373ee3cd381": {
          "model_module": "@jupyter-widgets/controls",
          "model_name": "HTMLModel",
          "model_module_version": "1.5.0",
          "state": {
            "_dom_classes": [],
            "_model_module": "@jupyter-widgets/controls",
            "_model_module_version": "1.5.0",
            "_model_name": "HTMLModel",
            "_view_count": null,
            "_view_module": "@jupyter-widgets/controls",
            "_view_module_version": "1.5.0",
            "_view_name": "HTMLView",
            "description": "",
            "description_tooltip": null,
            "layout": "IPY_MODEL_9c503b9df87a4266bb264bc8ddd0b498",
            "placeholder": "​",
            "style": "IPY_MODEL_60fc995e7f804b92bd663ae8de9af9a0",
            "value": "Downloading (…)lve/main/config.json: 100%"
          }
        },
        "285c91c7272043a5bf924a22e2f93e01": {
          "model_module": "@jupyter-widgets/controls",
          "model_name": "FloatProgressModel",
          "model_module_version": "1.5.0",
          "state": {
            "_dom_classes": [],
            "_model_module": "@jupyter-widgets/controls",
            "_model_module_version": "1.5.0",
            "_model_name": "FloatProgressModel",
            "_view_count": null,
            "_view_module": "@jupyter-widgets/controls",
            "_view_module_version": "1.5.0",
            "_view_name": "ProgressView",
            "bar_style": "success",
            "description": "",
            "description_tooltip": null,
            "layout": "IPY_MODEL_e514f0eb67eb4531ae938fe98fdd554c",
            "max": 481,
            "min": 0,
            "orientation": "horizontal",
            "style": "IPY_MODEL_aa88d915dadc4f098bd13e1927d87297",
            "value": 481
          }
        },
        "6466f5c1f00c4757b229d208ec478324": {
          "model_module": "@jupyter-widgets/controls",
          "model_name": "HTMLModel",
          "model_module_version": "1.5.0",
          "state": {
            "_dom_classes": [],
            "_model_module": "@jupyter-widgets/controls",
            "_model_module_version": "1.5.0",
            "_model_name": "HTMLModel",
            "_view_count": null,
            "_view_module": "@jupyter-widgets/controls",
            "_view_module_version": "1.5.0",
            "_view_name": "HTMLView",
            "description": "",
            "description_tooltip": null,
            "layout": "IPY_MODEL_3da9570ae24c4afd8ab435ee40c0dfaa",
            "placeholder": "​",
            "style": "IPY_MODEL_56cf012b19914e64a8f4ce824abea229",
            "value": " 481/481 [00:00&lt;00:00, 16.4kB/s]"
          }
        },
        "fd00d1e3dfee44e1b96127b006eb9db4": {
          "model_module": "@jupyter-widgets/base",
          "model_name": "LayoutModel",
          "model_module_version": "1.2.0",
          "state": {
            "_model_module": "@jupyter-widgets/base",
            "_model_module_version": "1.2.0",
            "_model_name": "LayoutModel",
            "_view_count": null,
            "_view_module": "@jupyter-widgets/base",
            "_view_module_version": "1.2.0",
            "_view_name": "LayoutView",
            "align_content": null,
            "align_items": null,
            "align_self": null,
            "border": null,
            "bottom": null,
            "display": null,
            "flex": null,
            "flex_flow": null,
            "grid_area": null,
            "grid_auto_columns": null,
            "grid_auto_flow": null,
            "grid_auto_rows": null,
            "grid_column": null,
            "grid_gap": null,
            "grid_row": null,
            "grid_template_areas": null,
            "grid_template_columns": null,
            "grid_template_rows": null,
            "height": null,
            "justify_content": null,
            "justify_items": null,
            "left": null,
            "margin": null,
            "max_height": null,
            "max_width": null,
            "min_height": null,
            "min_width": null,
            "object_fit": null,
            "object_position": null,
            "order": null,
            "overflow": null,
            "overflow_x": null,
            "overflow_y": null,
            "padding": null,
            "right": null,
            "top": null,
            "visibility": null,
            "width": null
          }
        },
        "9c503b9df87a4266bb264bc8ddd0b498": {
          "model_module": "@jupyter-widgets/base",
          "model_name": "LayoutModel",
          "model_module_version": "1.2.0",
          "state": {
            "_model_module": "@jupyter-widgets/base",
            "_model_module_version": "1.2.0",
            "_model_name": "LayoutModel",
            "_view_count": null,
            "_view_module": "@jupyter-widgets/base",
            "_view_module_version": "1.2.0",
            "_view_name": "LayoutView",
            "align_content": null,
            "align_items": null,
            "align_self": null,
            "border": null,
            "bottom": null,
            "display": null,
            "flex": null,
            "flex_flow": null,
            "grid_area": null,
            "grid_auto_columns": null,
            "grid_auto_flow": null,
            "grid_auto_rows": null,
            "grid_column": null,
            "grid_gap": null,
            "grid_row": null,
            "grid_template_areas": null,
            "grid_template_columns": null,
            "grid_template_rows": null,
            "height": null,
            "justify_content": null,
            "justify_items": null,
            "left": null,
            "margin": null,
            "max_height": null,
            "max_width": null,
            "min_height": null,
            "min_width": null,
            "object_fit": null,
            "object_position": null,
            "order": null,
            "overflow": null,
            "overflow_x": null,
            "overflow_y": null,
            "padding": null,
            "right": null,
            "top": null,
            "visibility": null,
            "width": null
          }
        },
        "60fc995e7f804b92bd663ae8de9af9a0": {
          "model_module": "@jupyter-widgets/controls",
          "model_name": "DescriptionStyleModel",
          "model_module_version": "1.5.0",
          "state": {
            "_model_module": "@jupyter-widgets/controls",
            "_model_module_version": "1.5.0",
            "_model_name": "DescriptionStyleModel",
            "_view_count": null,
            "_view_module": "@jupyter-widgets/base",
            "_view_module_version": "1.2.0",
            "_view_name": "StyleView",
            "description_width": ""
          }
        },
        "e514f0eb67eb4531ae938fe98fdd554c": {
          "model_module": "@jupyter-widgets/base",
          "model_name": "LayoutModel",
          "model_module_version": "1.2.0",
          "state": {
            "_model_module": "@jupyter-widgets/base",
            "_model_module_version": "1.2.0",
            "_model_name": "LayoutModel",
            "_view_count": null,
            "_view_module": "@jupyter-widgets/base",
            "_view_module_version": "1.2.0",
            "_view_name": "LayoutView",
            "align_content": null,
            "align_items": null,
            "align_self": null,
            "border": null,
            "bottom": null,
            "display": null,
            "flex": null,
            "flex_flow": null,
            "grid_area": null,
            "grid_auto_columns": null,
            "grid_auto_flow": null,
            "grid_auto_rows": null,
            "grid_column": null,
            "grid_gap": null,
            "grid_row": null,
            "grid_template_areas": null,
            "grid_template_columns": null,
            "grid_template_rows": null,
            "height": null,
            "justify_content": null,
            "justify_items": null,
            "left": null,
            "margin": null,
            "max_height": null,
            "max_width": null,
            "min_height": null,
            "min_width": null,
            "object_fit": null,
            "object_position": null,
            "order": null,
            "overflow": null,
            "overflow_x": null,
            "overflow_y": null,
            "padding": null,
            "right": null,
            "top": null,
            "visibility": null,
            "width": null
          }
        },
        "aa88d915dadc4f098bd13e1927d87297": {
          "model_module": "@jupyter-widgets/controls",
          "model_name": "ProgressStyleModel",
          "model_module_version": "1.5.0",
          "state": {
            "_model_module": "@jupyter-widgets/controls",
            "_model_module_version": "1.5.0",
            "_model_name": "ProgressStyleModel",
            "_view_count": null,
            "_view_module": "@jupyter-widgets/base",
            "_view_module_version": "1.2.0",
            "_view_name": "StyleView",
            "bar_color": null,
            "description_width": ""
          }
        },
        "3da9570ae24c4afd8ab435ee40c0dfaa": {
          "model_module": "@jupyter-widgets/base",
          "model_name": "LayoutModel",
          "model_module_version": "1.2.0",
          "state": {
            "_model_module": "@jupyter-widgets/base",
            "_model_module_version": "1.2.0",
            "_model_name": "LayoutModel",
            "_view_count": null,
            "_view_module": "@jupyter-widgets/base",
            "_view_module_version": "1.2.0",
            "_view_name": "LayoutView",
            "align_content": null,
            "align_items": null,
            "align_self": null,
            "border": null,
            "bottom": null,
            "display": null,
            "flex": null,
            "flex_flow": null,
            "grid_area": null,
            "grid_auto_columns": null,
            "grid_auto_flow": null,
            "grid_auto_rows": null,
            "grid_column": null,
            "grid_gap": null,
            "grid_row": null,
            "grid_template_areas": null,
            "grid_template_columns": null,
            "grid_template_rows": null,
            "height": null,
            "justify_content": null,
            "justify_items": null,
            "left": null,
            "margin": null,
            "max_height": null,
            "max_width": null,
            "min_height": null,
            "min_width": null,
            "object_fit": null,
            "object_position": null,
            "order": null,
            "overflow": null,
            "overflow_x": null,
            "overflow_y": null,
            "padding": null,
            "right": null,
            "top": null,
            "visibility": null,
            "width": null
          }
        },
        "56cf012b19914e64a8f4ce824abea229": {
          "model_module": "@jupyter-widgets/controls",
          "model_name": "DescriptionStyleModel",
          "model_module_version": "1.5.0",
          "state": {
            "_model_module": "@jupyter-widgets/controls",
            "_model_module_version": "1.5.0",
            "_model_name": "DescriptionStyleModel",
            "_view_count": null,
            "_view_module": "@jupyter-widgets/base",
            "_view_module_version": "1.2.0",
            "_view_name": "StyleView",
            "description_width": ""
          }
        }
      }
    }
  },
  "nbformat": 4,
  "nbformat_minor": 0
}