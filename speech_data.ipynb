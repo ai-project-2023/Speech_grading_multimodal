{
  "cells": [
    {
      "cell_type": "code",
      "execution_count": null,
      "metadata": {
        "id": "YrwsUWaGrG7m"
      },
      "outputs": [],
      "source": [
        "import wave\n",
        "import numpy as np\n",
        "import matplotlib.pyplot as plt\n",
        "from pydub import AudioSegment\n",
        "from mpl_toolkits.mplot3d import Axes3D\n",
        "\n",
        "# files                                                                       \n",
        "dst = \"_dI--eQ6qVU.wav\"\n",
        "\n",
        "from google.colab import drive\n",
        "drive.mount('/content/drive')\n",
        "\n",
        "#### mp3_to_wav\n",
        "from pydub import AudioSegment\n",
        "\n",
        "def mp3_to_wav(mp3_file, wav_file):\n",
        "    audio = AudioSegment.from_mp3(mp3_file)\n",
        "    audio.export(wav_file, format='wav')\n",
        "\n",
        "# # Example usage\n",
        "# mp3_file = '/content/drive/MyDrive/AnneHathaway_Speech.mp3'\n",
        "# wav_file = '/content/AnneHathaway_Speech.wav'\n",
        "# mp3_to_wav(mp3_file, wav_file)\n",
        "\n"
      ]
    },
    {
      "cell_type": "code",
      "execution_count": null,
      "metadata": {
        "colab": {
          "base_uri": "https://localhost:8080/"
        },
        "id": "udl7QcTPrwYZ",
        "outputId": "fc4ec698-02da-4be7-b953-e6c0b71b9141"
      },
      "outputs": [
        {
          "name": "stdout",
          "output_type": "stream",
          "text": [
            "Drive already mounted at /content/drive; to attempt to forcibly remount, call drive.mount(\"/content/drive\", force_remount=True).\n"
          ]
        }
      ],
      "source": [
        "# import numpy as np\n",
        "# import matplotlib.pyplot as plt\n",
        "# import opensmile\n",
        "# import copy\n",
        "\n",
        "# class opensmile_wav():\n",
        "#       # 초기화\n",
        "#       def __init__(self, data_path: str):\n",
        "#         self.data_path = data_path\n",
        "#         self.data_features = None\n",
        "#         self.data_jitterLocal_sma3nz = None\n",
        "#         self.data_ShimmerLocaldB_sma3nz = None\n",
        "\n",
        "#       def wav_to_MFCC(self):\n",
        "#         ## good dataset\n",
        "#         wav_file = self.data_path\n",
        "#         # OpenSMILE 추출기 초기화\n",
        "#         smile = opensmile.Smile(\n",
        "#             feature_set=opensmile.FeatureSet.GeMAPSv01b,\n",
        "#             feature_level=opensmile.FeatureLevel.LowLevelDescriptors,\n",
        "#         )\n",
        "#         # WAV 파일에서 MFCC 추출\n",
        "#         features = smile.process_file(wav_file)\n",
        "#         self.data_features = copy.copy(features)\n",
        "\n",
        "#       def jitterLocal_sma3nz(self):\n",
        "#         # jitterLocal_sma3nz\n",
        "#         jitter_values = self.data_features['jitterLocal_sma3nz'].values\n",
        "#         self.data_jitterLocal_sma3nz = jitter_values \n",
        "\n",
        "#       def ShimmerLocaldB_sma3nz(self):\n",
        "#       # ShimmerLocaldB_sma3nz \n",
        "#         shimmer_values = self.data_features['shimmerLocaldB_sma3nz'].values\n",
        "#         # self.data_ShimmerLocaldB_sma3nz = copy.copy(shimmer_values) \n",
        "#         self.data_ShimmerLocaldB_sma3nz = shimmer_values \n",
        "\n",
        "\n",
        "#       def show_result(self, res_type:str):\n",
        "#         if res_type == 'ShimmerLocaldB':\n",
        "#           if self.data_ShimmerLocaldB_sma3nz is None:\n",
        "#             print('run ShimmerLocaldB_sma3nz(self)')\n",
        "#           else:\n",
        "#             plt.specgram(self.data_ShimmerLocaldB_sma3nz, Fs=1000, cmap='jet')\n",
        "#             plt.xlabel('Time')\n",
        "#             plt.ylabel('Frequency')\n",
        "#             plt.title('Spectrogram of' + res_type)\n",
        "#             plt.colorbar(format='%+2.0f dB')\n",
        "#             plt.show()\n",
        "#         elif res_type == 'jitterLocal':\n",
        "#           if self.data_jitterLocal_sma3nz is None:\n",
        "#             print('run data_jitterLocal_sma3nz(self)')\n",
        "#           else:\n",
        "#             plt.specgram(self.data_jitterLocal_sma3nz, Fs=1000, cmap='jet')\n",
        "#             plt.xlabel('Time')\n",
        "#             plt.ylabel('Frequency')\n",
        "#             plt.title('Spectrogram of' + res_type)\n",
        "#             plt.colorbar(format='%+2.0f dB')\n",
        "#             plt.show()\n",
        "#         else:\n",
        "#           print(\"not exist type\")\n",
        "\n",
        "\n"
      ]
    },
    {
      "cell_type": "code",
      "execution_count": null,
      "metadata": {
        "id": "GOIg0laBsDkF"
      },
      "outputs": [],
      "source": [
        "from model import opensmile_wav \n",
        "\n",
        "wav_file = '/content/drive/MyDrive/cv_train_Set/cv_train_Set/good_wav/AJJacobs_2007P.wav'\n",
        "good_test = opensmile_wav(wav_file)\n",
        "\n",
        "## 특징 학습\n",
        "good_test.jitterLocal_sma3nz()\n",
        "good_test.ShimmerLocaldB_sma3nz()\n",
        "\n",
        "## 보고싶은 특징 선택\n",
        "good_test.show_result(\"jitterLocal\")"
      ]
    }
  ],
  "metadata": {
    "colab": {
      "provenance": []
    },
    "kernelspec": {
      "display_name": "Python 3",
      "name": "python3"
    },
    "language_info": {
      "name": "python"
    }
  },
  "nbformat": 4,
  "nbformat_minor": 0
}
