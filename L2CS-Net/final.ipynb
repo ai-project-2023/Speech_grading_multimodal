{
  "cells": [
    {
      "cell_type": "code",
      "execution_count": null,
      "metadata": {
        "colab": {
          "base_uri": "https://localhost:8080/"
        },
        "id": "uimCzUMgJm-f",
        "outputId": "2a7db249-16b1-4309-cf42-83830254480e"
      },
      "outputs": [
        {
          "name": "stdout",
          "output_type": "stream",
          "text": [
            "Mounted at /content/drive/\n"
          ]
        }
      ],
      "source": [
        "# set module\n",
        "import pandas as pd\n",
        "\n",
        "\n",
        "from google.colab import drive\n",
        "drive.mount('/content/drive/')"
      ]
    },
    {
      "cell_type": "code",
      "execution_count": null,
      "metadata": {
        "colab": {
          "base_uri": "https://localhost:8080/"
        },
        "id": "3vsnTTehJxje",
        "outputId": "322a076a-a831-4961-dbb5-64aa10ff95aa"
      },
      "outputs": [
        {
          "name": "stdout",
          "output_type": "stream",
          "text": [
            "현재 작업 디렉토리: /content/drive/MyDrive/L2CS-Net\n"
          ]
        }
      ],
      "source": [
        "import os\n",
        "\n",
        "new_dir = \"/content/drive/MyDrive/L2CS-Net\"\n",
        "os.chdir(new_dir)  # 현재 작업 디렉토리 변경\n",
        "current_dir = os.getcwd()\n",
        "print(\"현재 작업 디렉토리:\", current_dir)"
      ]
    },
    {
      "cell_type": "code",
      "execution_count": null,
      "metadata": {
        "colab": {
          "base_uri": "https://localhost:8080/"
        },
        "id": "JB3SLOEcK5a6",
        "outputId": "6aa5924c-6511-449e-dd25-0d93b607cb8c"
      },
      "outputs": [
        {
          "name": "stdout",
          "output_type": "stream",
          "text": [
            "/content/drive/MyDrive/L2CS-Net\n"
          ]
        }
      ],
      "source": [
        "!pwd"
      ]
    },
    {
      "cell_type": "code",
      "execution_count": null,
      "metadata": {
        "colab": {
          "base_uri": "https://localhost:8080/"
        },
        "id": "WqRPZdZBJy1S",
        "outputId": "38e66b6a-b692-4842-b197-ea092b4c3c63"
      },
      "outputs": [
        {
          "name": "stdout",
          "output_type": "stream",
          "text": [
            "Looking in indexes: https://pypi.org/simple, https://us-python.pkg.dev/colab-wheels/public/simple/\n",
            "Requirement already satisfied: matplotlib>=3.3.4 in /usr/local/lib/python3.10/dist-packages (from -r requirements.txt (line 1)) (3.7.1)\n",
            "Requirement already satisfied: numpy>=1.19.5 in /usr/local/lib/python3.10/dist-packages (from -r requirements.txt (line 2)) (1.22.4)\n",
            "Requirement already satisfied: opencv-python>=4.5.5 in /usr/local/lib/python3.10/dist-packages (from -r requirements.txt (line 3)) (4.7.0.72)\n",
            "Requirement already satisfied: pandas>=1.1.5 in /usr/local/lib/python3.10/dist-packages (from -r requirements.txt (line 4)) (1.5.3)\n",
            "Requirement already satisfied: Pillow>=8.4.0 in /usr/local/lib/python3.10/dist-packages (from -r requirements.txt (line 5)) (8.4.0)\n",
            "Requirement already satisfied: scipy>=1.5.4 in /usr/local/lib/python3.10/dist-packages (from -r requirements.txt (line 6)) (1.10.1)\n",
            "Requirement already satisfied: torch>=1.10.1 in /usr/local/lib/python3.10/dist-packages (from -r requirements.txt (line 7)) (2.0.1+cu118)\n",
            "Requirement already satisfied: torchvision>=0.11.2 in /usr/local/lib/python3.10/dist-packages (from -r requirements.txt (line 8)) (0.15.2+cu118)\n",
            "Requirement already satisfied: contourpy>=1.0.1 in /usr/local/lib/python3.10/dist-packages (from matplotlib>=3.3.4->-r requirements.txt (line 1)) (1.0.7)\n",
            "Requirement already satisfied: cycler>=0.10 in /usr/local/lib/python3.10/dist-packages (from matplotlib>=3.3.4->-r requirements.txt (line 1)) (0.11.0)\n",
            "Requirement already satisfied: fonttools>=4.22.0 in /usr/local/lib/python3.10/dist-packages (from matplotlib>=3.3.4->-r requirements.txt (line 1)) (4.39.3)\n",
            "Requirement already satisfied: kiwisolver>=1.0.1 in /usr/local/lib/python3.10/dist-packages (from matplotlib>=3.3.4->-r requirements.txt (line 1)) (1.4.4)\n",
            "Requirement already satisfied: packaging>=20.0 in /usr/local/lib/python3.10/dist-packages (from matplotlib>=3.3.4->-r requirements.txt (line 1)) (23.1)\n",
            "Requirement already satisfied: pyparsing>=2.3.1 in /usr/local/lib/python3.10/dist-packages (from matplotlib>=3.3.4->-r requirements.txt (line 1)) (3.0.9)\n",
            "Requirement already satisfied: python-dateutil>=2.7 in /usr/local/lib/python3.10/dist-packages (from matplotlib>=3.3.4->-r requirements.txt (line 1)) (2.8.2)\n",
            "Requirement already satisfied: pytz>=2020.1 in /usr/local/lib/python3.10/dist-packages (from pandas>=1.1.5->-r requirements.txt (line 4)) (2022.7.1)\n",
            "Requirement already satisfied: filelock in /usr/local/lib/python3.10/dist-packages (from torch>=1.10.1->-r requirements.txt (line 7)) (3.12.0)\n",
            "Requirement already satisfied: typing-extensions in /usr/local/lib/python3.10/dist-packages (from torch>=1.10.1->-r requirements.txt (line 7)) (4.5.0)\n",
            "Requirement already satisfied: sympy in /usr/local/lib/python3.10/dist-packages (from torch>=1.10.1->-r requirements.txt (line 7)) (1.11.1)\n",
            "Requirement already satisfied: networkx in /usr/local/lib/python3.10/dist-packages (from torch>=1.10.1->-r requirements.txt (line 7)) (3.1)\n",
            "Requirement already satisfied: jinja2 in /usr/local/lib/python3.10/dist-packages (from torch>=1.10.1->-r requirements.txt (line 7)) (3.1.2)\n",
            "Requirement already satisfied: triton==2.0.0 in /usr/local/lib/python3.10/dist-packages (from torch>=1.10.1->-r requirements.txt (line 7)) (2.0.0)\n",
            "Requirement already satisfied: cmake in /usr/local/lib/python3.10/dist-packages (from triton==2.0.0->torch>=1.10.1->-r requirements.txt (line 7)) (3.25.2)\n",
            "Requirement already satisfied: lit in /usr/local/lib/python3.10/dist-packages (from triton==2.0.0->torch>=1.10.1->-r requirements.txt (line 7)) (16.0.5)\n",
            "Requirement already satisfied: requests in /usr/local/lib/python3.10/dist-packages (from torchvision>=0.11.2->-r requirements.txt (line 8)) (2.27.1)\n",
            "Requirement already satisfied: six>=1.5 in /usr/local/lib/python3.10/dist-packages (from python-dateutil>=2.7->matplotlib>=3.3.4->-r requirements.txt (line 1)) (1.16.0)\n",
            "Requirement already satisfied: MarkupSafe>=2.0 in /usr/local/lib/python3.10/dist-packages (from jinja2->torch>=1.10.1->-r requirements.txt (line 7)) (2.1.2)\n",
            "Requirement already satisfied: urllib3<1.27,>=1.21.1 in /usr/local/lib/python3.10/dist-packages (from requests->torchvision>=0.11.2->-r requirements.txt (line 8)) (1.26.15)\n",
            "Requirement already satisfied: certifi>=2017.4.17 in /usr/local/lib/python3.10/dist-packages (from requests->torchvision>=0.11.2->-r requirements.txt (line 8)) (2022.12.7)\n",
            "Requirement already satisfied: charset-normalizer~=2.0.0 in /usr/local/lib/python3.10/dist-packages (from requests->torchvision>=0.11.2->-r requirements.txt (line 8)) (2.0.12)\n",
            "Requirement already satisfied: idna<4,>=2.5 in /usr/local/lib/python3.10/dist-packages (from requests->torchvision>=0.11.2->-r requirements.txt (line 8)) (3.4)\n",
            "Requirement already satisfied: mpmath>=0.19 in /usr/local/lib/python3.10/dist-packages (from sympy->torch>=1.10.1->-r requirements.txt (line 7)) (1.3.0)\n"
          ]
        }
      ],
      "source": [
        "## 패키지 설치\n",
        "! pip install -r requirements.txt  \n"
      ]
    },
    {
      "cell_type": "code",
      "execution_count": null,
      "metadata": {
        "colab": {
          "base_uri": "https://localhost:8080/"
        },
        "id": "A2CgPEj4LEEt",
        "outputId": "240877e8-9a0e-4b2e-84ef-1954dfef1bce"
      },
      "outputs": [
        {
          "name": "stdout",
          "output_type": "stream",
          "text": [
            "Looking in indexes: https://pypi.org/simple, https://us-python.pkg.dev/colab-wheels/public/simple/\n",
            "Collecting git+https://github.com/elliottzheng/face-detection.git@master\n",
            "  Cloning https://github.com/elliottzheng/face-detection.git (to revision master) to /tmp/pip-req-build-k28wbvgs\n",
            "  Running command git clone --filter=blob:none --quiet https://github.com/elliottzheng/face-detection.git /tmp/pip-req-build-k28wbvgs\n",
            "  Resolved https://github.com/elliottzheng/face-detection.git to commit 786fbab7095623c348e251f1f0a8b323721c6a84\n",
            "  Preparing metadata (setup.py) ... \u001b[?25l\u001b[?25hdone\n",
            "Requirement already satisfied: numpy in /usr/local/lib/python3.10/dist-packages (from face-detection==1.0.5) (1.22.4)\n",
            "Requirement already satisfied: torch in /usr/local/lib/python3.10/dist-packages (from face-detection==1.0.5) (2.0.1+cu118)\n",
            "Requirement already satisfied: torchvision in /usr/local/lib/python3.10/dist-packages (from face-detection==1.0.5) (0.15.2+cu118)\n",
            "Requirement already satisfied: filelock in /usr/local/lib/python3.10/dist-packages (from torch->face-detection==1.0.5) (3.12.0)\n",
            "Requirement already satisfied: typing-extensions in /usr/local/lib/python3.10/dist-packages (from torch->face-detection==1.0.5) (4.5.0)\n",
            "Requirement already satisfied: sympy in /usr/local/lib/python3.10/dist-packages (from torch->face-detection==1.0.5) (1.11.1)\n",
            "Requirement already satisfied: networkx in /usr/local/lib/python3.10/dist-packages (from torch->face-detection==1.0.5) (3.1)\n",
            "Requirement already satisfied: jinja2 in /usr/local/lib/python3.10/dist-packages (from torch->face-detection==1.0.5) (3.1.2)\n",
            "Requirement already satisfied: triton==2.0.0 in /usr/local/lib/python3.10/dist-packages (from torch->face-detection==1.0.5) (2.0.0)\n",
            "Requirement already satisfied: cmake in /usr/local/lib/python3.10/dist-packages (from triton==2.0.0->torch->face-detection==1.0.5) (3.25.2)\n",
            "Requirement already satisfied: lit in /usr/local/lib/python3.10/dist-packages (from triton==2.0.0->torch->face-detection==1.0.5) (16.0.5)\n",
            "Requirement already satisfied: requests in /usr/local/lib/python3.10/dist-packages (from torchvision->face-detection==1.0.5) (2.27.1)\n",
            "Requirement already satisfied: pillow!=8.3.*,>=5.3.0 in /usr/local/lib/python3.10/dist-packages (from torchvision->face-detection==1.0.5) (8.4.0)\n",
            "Requirement already satisfied: MarkupSafe>=2.0 in /usr/local/lib/python3.10/dist-packages (from jinja2->torch->face-detection==1.0.5) (2.1.2)\n",
            "Requirement already satisfied: urllib3<1.27,>=1.21.1 in /usr/local/lib/python3.10/dist-packages (from requests->torchvision->face-detection==1.0.5) (1.26.15)\n",
            "Requirement already satisfied: certifi>=2017.4.17 in /usr/local/lib/python3.10/dist-packages (from requests->torchvision->face-detection==1.0.5) (2022.12.7)\n",
            "Requirement already satisfied: charset-normalizer~=2.0.0 in /usr/local/lib/python3.10/dist-packages (from requests->torchvision->face-detection==1.0.5) (2.0.12)\n",
            "Requirement already satisfied: idna<4,>=2.5 in /usr/local/lib/python3.10/dist-packages (from requests->torchvision->face-detection==1.0.5) (3.4)\n",
            "Requirement already satisfied: mpmath>=0.19 in /usr/local/lib/python3.10/dist-packages (from sympy->torch->face-detection==1.0.5) (1.3.0)\n",
            "Building wheels for collected packages: face-detection\n",
            "  Building wheel for face-detection (setup.py) ... \u001b[?25l\u001b[?25hdone\n",
            "  Created wheel for face-detection: filename=face_detection-1.0.5-py3-none-any.whl size=1638438 sha256=fdcb013a17ea518eb3d96c6792e36f19eb9fd9b4da557c230187937a99aaaa87\n",
            "  Stored in directory: /tmp/pip-ephem-wheel-cache-m4q4t3ow/wheels/08/ac/4b/4d71660ae29737385e9967e87f576cc4ef7e1ba06d244dfbb3\n",
            "Successfully built face-detection\n",
            "Installing collected packages: face-detection\n",
            "Successfully installed face-detection-1.0.5\n"
          ]
        }
      ],
      "source": [
        "! pip install git+https://github.com/elliottzheng/face-detection.git@master\n"
      ]
    },
    {
      "cell_type": "code",
      "execution_count": null,
      "metadata": {
        "id": "YIt-GB2qJ92g"
      },
      "outputs": [],
      "source": [
        "# 스크립트 활\n",
        "# !python demo_video.py \\\n",
        "#  --snapshot models/L2CSNet_gaze360.pkl \\\n",
        "#  --gpu 0"
      ]
    },
    {
      "cell_type": "code",
      "execution_count": null,
      "metadata": {
        "id": "xWrhZCpNFEtS"
      },
      "outputs": [],
      "source": [
        "def calculate_euclidean_distance(point1, point2):\n",
        "    # 점의 개수가 같은지 확인\n",
        "    if len(point1) != len(point2):\n",
        "        raise ValueError(\"The dimensions of the points do not match.\")\n",
        "\n",
        "    # 각 차원별로 제곱 차이를 계산하여 더함\n",
        "    squared_diff = sum((coord1 - coord2)**2 for coord1, coord2 in zip(point1, point2))\n",
        "    \n",
        "    # 제곱 차이의 합에 루트를 씌워 유클리드 거리 계산\n",
        "    distance = math.sqrt(squared_diff)\n",
        "    return distance"
      ]
    },
    {
      "cell_type": "code",
      "execution_count": null,
      "metadata": {
        "colab": {
          "base_uri": "https://localhost:8080/"
        },
        "id": "jxTWSS9TUj2y",
        "outputId": "33773120-26aa-47bc-9a8e-dc7d67d1a7a8"
      },
      "outputs": [
        {
          "name": "stdout",
          "output_type": "stream",
          "text": [
            "Loading snapshot.\n",
            "Loading snapshot.\n",
            "Loading snapshot.\n",
            "error\n",
            "./datasets/bad_data/1DmNV9C1hbY.mp4\n",
            "1DmNV9C1hbY\n",
            "Loading snapshot.\n",
            "Loading snapshot.\n",
            "Loading snapshot.\n",
            "Loading snapshot.\n",
            "Loading snapshot.\n",
            "Loading snapshot.\n",
            "Loading snapshot.\n",
            "Loading snapshot.\n",
            "Loading snapshot.\n",
            "Loading snapshot.\n",
            "Loading snapshot.\n",
            "Loading snapshot.\n",
            "Loading snapshot.\n",
            "Loading snapshot.\n",
            "Loading snapshot.\n",
            "Loading snapshot.\n",
            "Loading snapshot.\n",
            "Loading snapshot.\n",
            "Loading snapshot.\n",
            "error\n",
            "./datasets/bad_data/Bfr499ggo-0.mp4\n",
            "Bfr499ggo-0\n",
            "Loading snapshot.\n",
            "Loading snapshot.\n",
            "Loading snapshot.\n",
            "error\n",
            "./datasets/bad_data/bOL9jKpeJRs.mp4\n",
            "bOL9jKpeJRs\n",
            "Loading snapshot.\n",
            "Loading snapshot.\n",
            "Loading snapshot.\n",
            "Loading snapshot.\n",
            "Loading snapshot.\n",
            "Loading snapshot.\n",
            "Loading snapshot.\n",
            "Loading snapshot.\n",
            "Loading snapshot.\n",
            "error\n",
            "./datasets/bad_data/cXypl4FnoZo.mp4\n",
            "cXypl4FnoZo\n",
            "Loading snapshot.\n",
            "Loading snapshot.\n",
            "Loading snapshot.\n",
            "Loading snapshot.\n",
            "Loading snapshot.\n",
            "Loading snapshot.\n",
            "Loading snapshot.\n",
            "error\n",
            "./datasets/bad_data/f9O3YtZ2VfI.mp4\n",
            "f9O3YtZ2VfI\n",
            "Loading snapshot.\n",
            "Loading snapshot.\n",
            "error\n",
            "./datasets/bad_data/G-xst2euQUc.mp4\n",
            "G-xst2euQUc\n",
            "Loading snapshot.\n",
            "Loading snapshot.\n",
            "Loading snapshot.\n",
            "Loading snapshot.\n",
            "Loading snapshot.\n",
            "Loading snapshot.\n",
            "error\n",
            "./datasets/bad_data/9T9Hf74oK10.mp4\n",
            "9T9Hf74oK10\n"
          ]
        }
      ],
      "source": [
        "## 모듈 다운로드:\n",
        "\n",
        "import numpy as np\n",
        "from main import get_gaze_predictions\n",
        "import numpy as np\n",
        "from scipy.interpolate import CubicSpline\n",
        "import matplotlib.pyplot as plt\n",
        "import math\n",
        "\n",
        "snapshot_path = 'models/L2CSNet_gaze360.pkl'\n",
        "arch = 'ResNet50'\n",
        "gpu_id = '0'\n",
        "\n",
        "\n",
        "##  bad_data test 코드\n",
        "video_files = [f for f in os.listdir(\"./datasets/bad_data/\") if f.endswith('.mp4')]\n",
        "for video_file in video_files:\n",
        "    video_name = video_file.split('/')[-1].split('.')[0]  # Extracting video name from video path\n",
        "    video_file_path = './datasets/bad_data/' + video_file\n",
        "\n",
        "\n",
        "    try:\n",
        "      # get_gaze_predictions 함수 호출하여 pitch_predicted_list와 yaw_predicted_list 얻기\n",
        "      pitch_predicted_list, yaw_predicted_list, imputation = get_gaze_predictions(video_file_path, snapshot_path, arch, gpu_id)\n",
        "\n",
        "      # 유클리드 거리 계산\n",
        "      distance_list = []\n",
        "      for i in range(len(pitch_predicted_list) - 1):\n",
        "        point1 = [pitch_predicted_list[i], yaw_predicted_list[i]]\n",
        "        point2 = [pitch_predicted_list[i+1], yaw_predicted_list[i+1]]\n",
        "        \n",
        "        distance = calculate_euclidean_distance(point1, point2)\n",
        "        distance_list.append(distance)\n",
        "\n",
        "      try:\n",
        "        x = list(range(len(distance_list)))\n",
        "        y = distance_list\n",
        "\n",
        "        cs = CubicSpline(x, y)\n",
        "        interpolated_x = np.linspace(min(x), max(x), num=imputation)\n",
        "        interpolated_y = cs(interpolated_x)\n",
        "\n",
        "        # 원본 데이터와 보간한 데이터를 순서에 맞게 삽입하여 새로운 리스트 생성\n",
        "        new_x = list(range(len(distance_list)+imputation))\n",
        "        new_y = [] ## 보간된 유클리드 거리\n",
        "        i = 0\n",
        "        for j in range(len(x)):\n",
        "            new_y.append(y[j])\n",
        "            if i < len(interpolated_x) and x[j] >= interpolated_x[i]:\n",
        "                new_y.append(interpolated_y[i])\n",
        "                i += 1\n",
        "\n",
        "        # 값들을 파일에 저장\n",
        "        np.save(\"./gaze_vector/eye_moving/bad_data/eye_gaze_moving_list_\" + video_name +\".npy\", new_y)\n",
        "      except: \n",
        "        np.save(\"./gaze_vector/eye_moving/bad_data/eye_gaze_moving_list_\" + video_name +\".npy\", y)\n",
        "\n",
        "\n",
        "    except:\n",
        "      print(\"error\")\n",
        "      print(video_file_path)\n",
        "      print(video_name)\n",
        " \n",
        "\n",
        "\n",
        "\n"
      ]
    },
    {
      "cell_type": "code",
      "execution_count": null,
      "metadata": {
        "colab": {
          "base_uri": "https://localhost:8080/"
        },
        "id": "agUtekl0A8PM",
        "outputId": "49432527-9ec5-4a20-bf2e-d0d7f6092415"
      },
      "outputs": [
        {
          "name": "stdout",
          "output_type": "stream",
          "text": [
            "Loading snapshot.\n",
            "Loading snapshot.\n",
            "Loading snapshot.\n",
            "Loading snapshot.\n",
            "Loading snapshot.\n",
            "Loading snapshot.\n",
            "Loading snapshot.\n"
          ]
        }
      ],
      "source": [
        "## 에러코드 처리 -> 위 원본 코드에 합침\n",
        "import numpy as np\n",
        "from main import get_gaze_predictions\n",
        "import math\n",
        "\n",
        "# 비디오 파일 리스트\n",
        "# video_paths = ['./datasets/bad_test1.mp4', './datasets/bad_test2.mp4', './datasets/bad_test3.mp4']\n",
        "video_paths = ['./datasets/bad_data/1DmNV9C1hbY.mp4', \n",
        "'./datasets/bad_data/Bfr499ggo-0.mp4',\n",
        "'./datasets/bad_data/bOL9jKpeJRs.mp4',\n",
        "'./datasets/bad_data/cXypl4FnoZo.mp4',\n",
        "'./datasets/bad_data/f9O3YtZ2VfI.mp4',\n",
        "'./datasets/bad_data/G-xst2euQUc.mp4',\n",
        "'./datasets/bad_data/9T9Hf74oK10.mp4']\n",
        "\n",
        "snapshot_path = 'models/L2CSNet_gaze360.pkl'\n",
        "arch = 'ResNet50'\n",
        "gpu_id = '0'\n",
        "\n",
        "for video_path in video_paths:\n",
        "    # get_gaze_predictions 함수 호출하여 pitch_predicted_list와 yaw_predicted_list 얻기\n",
        "    pitch_predicted_list, yaw_predicted_list, imputation = get_gaze_predictions(video_path, snapshot_path, arch, gpu_id)\n",
        "    video_name = video_path.split('/')[-1].split('.')[0]  # Extracting video name from video path\n",
        "\n",
        "    # 값들을 파일에 저장\n",
        "    # np.save(\"pitch_predicted_list.npy\", pitch_predicted_list)\n",
        "    # np.save(\"yaw_predicted_list.npy\", yaw_predicted_list)\n",
        "\n",
        "    distance_list = []\n",
        "    for i in range(len(pitch_predicted_list) - 1):\n",
        "        point1 = [pitch_predicted_list[i], yaw_predicted_list[i]]\n",
        "        point2 = [pitch_predicted_list[i+1], yaw_predicted_list[i+1]]\n",
        "        \n",
        "        distance = calculate_euclidean_distance(point1, point2)\n",
        "        distance_list.append(distance)\n",
        "\n",
        "    x = list(range(len(distance_list)))\n",
        "    y = distance_list\n",
        "\n",
        "    # cs = CubicSpline(x, y)\n",
        "    # interpolated_x = np.linspace(min(x), max(x), num=imputation)\n",
        "    # interpolated_y = cs(interpolated_x)\n",
        "\n",
        "    # # 원본 데이터와 보간한 데이터를 순서에 맞게 삽입하여 새로운 리스트 생성\n",
        "    # new_x = list(range(len(distance_list)+imputation))\n",
        "    # new_y = []\n",
        "    # i = 0\n",
        "    # for j in range(len(x)):\n",
        "    #     new_y.append(y[j])\n",
        "    #     if i < len(interpolated_x) and x[j] >= interpolated_x[i]:\n",
        "    #         new_y.append(interpolated_y[i])\n",
        "    #         i += 1\n",
        "\n",
        "    np.save(\"./gaze_vector/eye_moving/bad_data/eye_gaze_moving_list_\" + video_name +\".npy\", y)\n",
        "\n",
        "\n"
      ]
    }
  ],
  "metadata": {
    "accelerator": "GPU",
    "colab": {
      "gpuType": "T4",
      "provenance": []
    },
    "kernelspec": {
      "display_name": "Python 3",
      "name": "python3"
    },
    "language_info": {
      "name": "python"
    }
  },
  "nbformat": 4,
  "nbformat_minor": 0
}
