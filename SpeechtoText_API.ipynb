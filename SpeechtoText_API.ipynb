{
  "nbformat": 4,
  "nbformat_minor": 0,
  "metadata": {
    "colab": {
      "provenance": [],
      "authorship_tag": "ABX9TyNEecPmtymnUT5l7DjevkMH",
      "include_colab_link": true
    },
    "kernelspec": {
      "name": "python3",
      "display_name": "Python 3"
    },
    "language_info": {
      "name": "python"
    }
  },
  "cells": [
    {
      "cell_type": "markdown",
      "metadata": {
        "id": "view-in-github",
        "colab_type": "text"
      },
      "source": [
        "<a href=\"https://colab.research.google.com/github/ai-project-2023/Speech_grading_multimodal/blob/nlp%2Fspeechtotext/SpeechtoText_API.ipynb\" target=\"_parent\"><img src=\"https://colab.research.google.com/assets/colab-badge.svg\" alt=\"Open In Colab\"/></a>"
      ]
    },
    {
      "cell_type": "markdown",
      "source": [
        "#SpeechtoText API"
      ],
      "metadata": {
        "id": "ASMChm8_nkmv"
      }
    },
    {
      "cell_type": "markdown",
      "source": [
        "##환경설정"
      ],
      "metadata": {
        "id": "LOVFtMmenshk"
      }
    },
    {
      "cell_type": "code",
      "source": [
        "import pandas as pd\n",
        "import numpy as np\n",
        "import io\n",
        "import os"
      ],
      "metadata": {
        "id": "9Drq89KGoVfm"
      },
      "execution_count": null,
      "outputs": []
    },
    {
      "cell_type": "code",
      "execution_count": null,
      "metadata": {
        "id": "gBq9Amo9nfs0"
      },
      "outputs": [],
      "source": [
        "from google.colab import drive\n",
        "drive.mount('/content/drive')"
      ]
    },
    {
      "cell_type": "code",
      "source": [
        "json = 'PATH/keyname.json' #JSON 비공개 키"
      ],
      "metadata": {
        "id": "H3sQx38EnwTO"
      },
      "execution_count": null,
      "outputs": []
    },
    {
      "cell_type": "code",
      "source": [
        "!pip install google-cloud-speech"
      ],
      "metadata": {
        "id": "ltFM0Z7Qn41b"
      },
      "execution_count": null,
      "outputs": []
    },
    {
      "cell_type": "code",
      "source": [
        "!gcloud auth login #google-cloud 로그인"
      ],
      "metadata": {
        "id": "mfh9XP7bn6Fe"
      },
      "execution_count": null,
      "outputs": []
    },
    {
      "cell_type": "code",
      "source": [
        "!gcloud config set project projectID # project ID 입력"
      ],
      "metadata": {
        "id": "QFalsyiqn7sJ"
      },
      "execution_count": null,
      "outputs": []
    },
    {
      "cell_type": "code",
      "source": [
        "!curl https://sdk.cloud.google.com | bash"
      ],
      "metadata": {
        "id": "KgZMFXNgoEqm"
      },
      "execution_count": null,
      "outputs": []
    },
    {
      "cell_type": "code",
      "source": [
        "!gcloud init"
      ],
      "metadata": {
        "id": "4OeaRzGjoF79"
      },
      "execution_count": null,
      "outputs": []
    },
    {
      "cell_type": "markdown",
      "source": [
        "##Audio file to Bucket"
      ],
      "metadata": {
        "id": "4KlNqOpQpmZu"
      }
    },
    {
      "cell_type": "code",
      "source": [
        "!pip install --upgrade google-cloud-storage"
      ],
      "metadata": {
        "id": "xD7KACQfoHYx"
      },
      "execution_count": null,
      "outputs": []
    },
    {
      "cell_type": "code",
      "source": [
        "good_audio_info = pd.read_csv('audio_info_path/.csv') #audio file name, script, label\n",
        "bad_audio_info = pd.read_csv('audio_info_path/.csv')\n",
        "good_audio_name = good_audio_info['audio_name'].tolist()\n",
        "bad_audio_name = bad_audio_info['audio_name'].tolist()"
      ],
      "metadata": {
        "id": "RL5FWLWPoKJe"
      },
      "execution_count": null,
      "outputs": []
    },
    {
      "cell_type": "code",
      "source": [
        "# 드라이브 폴더 경로 지정\n",
        "good_folder_path = 'audio_file_path'  # 실제 폴더명으로 수정\n",
        "\n",
        "# 폴더 내의 모든 파일 이름을 리스트로 저장\n",
        "good_file_names = os.listdir(good_folder_path)\n",
        "\n",
        "print(good_file_names)"
      ],
      "metadata": {
        "id": "3uhfcRNUokCL"
      },
      "execution_count": null,
      "outputs": []
    },
    {
      "cell_type": "code",
      "source": [
        "for name in good_file_names:\n",
        "  good_audio_path = good_folder_path+name\n",
        "  bucket = \"bucket_name\"\n",
        "  !gsutil cp \"{good_audio_path}\" gs://\"{bucket}\"/"
      ],
      "metadata": {
        "id": "57F1mC8spG_T"
      },
      "execution_count": null,
      "outputs": []
    },
    {
      "cell_type": "code",
      "source": [
        "# 드라이브 폴더 경로 지정\n",
        "bad_folder_path = 'audio_file_path'  # 실제 폴더명으로 수정\n",
        "\n",
        "# 폴더 내의 모든 파일 이름을 리스트로 저장\n",
        "bad_file_names = os.listdir(bad_folder_path)\n",
        "\n",
        "print(bad_file_names)"
      ],
      "metadata": {
        "id": "I4TDPFb0p5Qf"
      },
      "execution_count": null,
      "outputs": []
    },
    {
      "cell_type": "code",
      "source": [
        "for name in bad_file_names:\n",
        "  bad_audio_path = bad_folder_path+name\n",
        "  bucket = \"bucket_name\"\n",
        "  !gsutil cp \"{bad_audio_path}\" gs://\"{bucket}\"/"
      ],
      "metadata": {
        "id": "YEMuSe3RpyjW"
      },
      "execution_count": null,
      "outputs": []
    },
    {
      "cell_type": "markdown",
      "source": [
        "##SpeechtoText"
      ],
      "metadata": {
        "id": "z4xsXBujpskM"
      }
    },
    {
      "cell_type": "code",
      "source": [
        "for wav in good_file_names:\n",
        "  # Import the Google Cloud client library\n",
        "  from google.cloud import speech_v1p1beta1 as speech\n",
        "\n",
        "  # Set the environment variable for the Google Cloud project ID\n",
        "  os.environ['GOOGLE_APPLICATION_CREDENTIALS'] = json\n",
        "\n",
        "  # Create a client instance for the Google Cloud Speech-to-Text API\n",
        "  client = speech.SpeechClient()\n",
        "\n",
        "  # Set the URI of the audio file you want to convert\n",
        "  audio_file_uri = 'bucket_name'+wav\n",
        "\n",
        "  # Set the audio file format and language code\n",
        "  config = speech.RecognitionConfig(\n",
        "      encoding=speech.RecognitionConfig.AudioEncoding.ENCODING_UNSPECIFIED,\n",
        "      sample_rate_hertz=16000,\n",
        "      language_code='en-US'\n",
        "  )\n",
        "  audio = speech.RecognitionAudio(uri=audio_file_uri)\n",
        "\n",
        "  # Send the audio file URI to the Google Cloud Speech-to-Text API for transcription\n",
        "  operation = client.long_running_recognize(config=config, audio=audio)\n",
        "  response = operation.result()\n",
        "\n",
        "  # Make 1 String variable\n",
        "  speech_to_text = []\n",
        "  for result in response.results:\n",
        "    speech_to_text.append(result.alternatives[0].transcript)\n",
        "  speech_to_text = '.'.join(speech_to_text) #Divide one line with '.'\n",
        "\n",
        "  index = good_audio_info[good_audio_info['audio_name'] == wav].index[0]\n",
        "  good_audio_info.loc[index, 'speech_to_text'] = speech_to_text\n",
        "  print('finish')"
      ],
      "metadata": {
        "id": "XFoPmqs4qAk_"
      },
      "execution_count": null,
      "outputs": []
    },
    {
      "cell_type": "code",
      "source": [
        "for i, col in enumerate(good_audio_info.columns):\n",
        "  print(col, '---',sum(good_audio_info[col].isna()))"
      ],
      "metadata": {
        "id": "UoCVWd_LqPr7"
      },
      "execution_count": null,
      "outputs": []
    },
    {
      "cell_type": "code",
      "source": [
        "good_audio_info.to_csv('file_path', index=False)"
      ],
      "metadata": {
        "id": "JWERqJZDqUM8"
      },
      "execution_count": null,
      "outputs": []
    },
    {
      "cell_type": "code",
      "source": [
        "for wav in bad_file_names:\n",
        "  # Import the Google Cloud client library\n",
        "  from google.cloud import speech_v1p1beta1 as speech\n",
        "\n",
        "  # Set the environment variable for the Google Cloud project ID\n",
        "  os.environ['GOOGLE_APPLICATION_CREDENTIALS'] = json\n",
        "\n",
        "  # Create a client instance for the Google Cloud Speech-to-Text API\n",
        "  client = speech.SpeechClient()\n",
        "\n",
        "  # Set the URI of the audio file you want to convert\n",
        "  audio_file_uri = 'bucket_name'+wav #ex) gs://audio4770\n",
        "\n",
        "  # Set the audio file format and language code\n",
        "  config = speech.RecognitionConfig(\n",
        "      encoding=speech.RecognitionConfig.AudioEncoding.ENCODING_UNSPECIFIED,\n",
        "      sample_rate_hertz=16000,\n",
        "      language_code='en-US'\n",
        "  )\n",
        "  audio = speech.RecognitionAudio(uri=audio_file_uri)\n",
        "\n",
        "  # Send the audio file URI to the Google Cloud Speech-to-Text API for transcription\n",
        "  operation = client.long_running_recognize(config=config, audio=audio)\n",
        "  response = operation.result()\n",
        "\n",
        "  # Make 1 String variable\n",
        "  speech_to_text = []\n",
        "  for result in response.results:\n",
        "    speech_to_text.append(result.alternatives[0].transcript)\n",
        "  speech_to_text = '.'.join(speech_to_text) #Divide one line with '.'\n",
        "\n",
        "  index = bad_audio_info[bad_audio_info['audio_name'] == wav].index[0]\n",
        "  bad_audio_info.loc[index, 'speech_to_text'] = speech_to_text\n",
        "  print('finish')"
      ],
      "metadata": {
        "id": "t-h9QbESqfRb"
      },
      "execution_count": null,
      "outputs": []
    },
    {
      "cell_type": "code",
      "source": [
        "for i, col in enumerate(bad_audio_info.columns):\n",
        "  print(col, '---',sum(bad_audio_info[col].isna()))"
      ],
      "metadata": {
        "id": "9aQBaUAlqrXK"
      },
      "execution_count": null,
      "outputs": []
    },
    {
      "cell_type": "code",
      "source": [
        "bad_audio_info.to_csv('file_path', index=False)"
      ],
      "metadata": {
        "id": "x6URJeo0quTb"
      },
      "execution_count": null,
      "outputs": []
    }
  ]
}